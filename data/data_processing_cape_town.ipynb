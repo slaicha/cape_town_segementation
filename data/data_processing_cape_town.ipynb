{
 "cells": [
  {
   "cell_type": "markdown",
   "metadata": {},
   "source": [
    "The goal of this notebook is to create a geodaframe containing all the necessary information about each solar panel annotation. This dataframe will be useful in creating image mask pairs of tiles (896x896 pixels) of the Cape Town geotiff images. The code to create the geodataframe and the image make pairs is available in this notebook.   "
   ]
  },
  {
   "cell_type": "code",
   "execution_count": null,
   "metadata": {},
   "outputs": [],
   "source": [
    "# import necessary packages\n",
    "import json\n",
    "import pandas as pd\n",
    "import geopandas as gpd\n",
    "import os\n",
    "import numpy as np\n",
    "import rasterio\n",
    "import ast\n",
    "import cv2\n",
    "import re\n",
    "import shutil\n",
    "import random\n",
    "from rasterio.transform import rowcol\n",
    "from rasterio.windows import Window\n",
    "from shapely.geometry import Polygon\n",
    "from shapely.geometry import shape\n",
    "from shapely.geometry import box\n",
    "from collections import namedtuple\n",
    "from tqdm import tqdm\n",
    "from data_generation import DatasetGenerator\n",
    "from PIL import Image"
   ]
  },
  {
   "cell_type": "markdown",
   "metadata": {},
   "source": [
    "Determine the images that have been annotated"
   ]
  },
  {
   "cell_type": "code",
   "execution_count": 30,
   "metadata": {},
   "outputs": [
    {
     "name": "stderr",
     "output_type": "stream",
     "text": [
      "c:\\Users\\AICHA\\miniconda3\\envs\\solar\\lib\\site-packages\\openpyxl\\worksheet\\_reader.py:329: UserWarning: Conditional Formatting extension is not supported and will be removed\n",
      "  warn(msg)\n"
     ]
    },
    {
     "data": {
      "text/html": [
       "<div>\n",
       "<style scoped>\n",
       "    .dataframe tbody tr th:only-of-type {\n",
       "        vertical-align: middle;\n",
       "    }\n",
       "\n",
       "    .dataframe tbody tr th {\n",
       "        vertical-align: top;\n",
       "    }\n",
       "\n",
       "    .dataframe thead th {\n",
       "        text-align: right;\n",
       "    }\n",
       "</style>\n",
       "<table border=\"1\" class=\"dataframe\">\n",
       "  <thead>\n",
       "    <tr style=\"text-align: right;\">\n",
       "      <th></th>\n",
       "      <th>Image ID</th>\n",
       "      <th>Annotator</th>\n",
       "    </tr>\n",
       "  </thead>\n",
       "  <tbody>\n",
       "    <tr>\n",
       "      <th>56</th>\n",
       "      <td>W07A_1</td>\n",
       "      <td>Gary Alvarez Mejia</td>\n",
       "    </tr>\n",
       "    <tr>\n",
       "      <th>63</th>\n",
       "      <td>W07A_16</td>\n",
       "      <td>Abby Finkle</td>\n",
       "    </tr>\n",
       "    <tr>\n",
       "      <th>72</th>\n",
       "      <td>W07A_24</td>\n",
       "      <td>Vanshika Mittal</td>\n",
       "    </tr>\n",
       "    <tr>\n",
       "      <th>106</th>\n",
       "      <td>W07C_10</td>\n",
       "      <td>Biz Yoder</td>\n",
       "    </tr>\n",
       "    <tr>\n",
       "      <th>107</th>\n",
       "      <td>W07C_11</td>\n",
       "      <td>Biz Yoder</td>\n",
       "    </tr>\n",
       "    <tr>\n",
       "      <th>...</th>\n",
       "      <td>...</td>\n",
       "      <td>...</td>\n",
       "    </tr>\n",
       "    <tr>\n",
       "      <th>2541</th>\n",
       "      <td>W57B_6</td>\n",
       "      <td>Fiona Bolte-Bradhurst</td>\n",
       "    </tr>\n",
       "    <tr>\n",
       "      <th>2542</th>\n",
       "      <td>W57B_7</td>\n",
       "      <td>Fiona Bolte-Bradhurst</td>\n",
       "    </tr>\n",
       "    <tr>\n",
       "      <th>2543</th>\n",
       "      <td>W57B_8</td>\n",
       "      <td>Fiona Bolte-Bradhurst</td>\n",
       "    </tr>\n",
       "    <tr>\n",
       "      <th>2544</th>\n",
       "      <td>W57B_9</td>\n",
       "      <td>Fiona Bolte-Bradhurst</td>\n",
       "    </tr>\n",
       "    <tr>\n",
       "      <th>2569</th>\n",
       "      <td>W57C_9</td>\n",
       "      <td>Ummamah Shah</td>\n",
       "    </tr>\n",
       "  </tbody>\n",
       "</table>\n",
       "<p>151 rows × 2 columns</p>\n",
       "</div>"
      ],
      "text/plain": [
       "     Image ID              Annotator\n",
       "56     W07A_1     Gary Alvarez Mejia\n",
       "63    W07A_16            Abby Finkle\n",
       "72    W07A_24        Vanshika Mittal\n",
       "106   W07C_10              Biz Yoder\n",
       "107   W07C_11              Biz Yoder\n",
       "...       ...                    ...\n",
       "2541   W57B_6  Fiona Bolte-Bradhurst\n",
       "2542   W57B_7  Fiona Bolte-Bradhurst\n",
       "2543   W57B_8  Fiona Bolte-Bradhurst\n",
       "2544   W57B_9  Fiona Bolte-Bradhurst\n",
       "2569   W57C_9           Ummamah Shah\n",
       "\n",
       "[151 rows x 2 columns]"
      ]
     },
     "execution_count": 30,
     "metadata": {},
     "output_type": "execute_result"
    }
   ],
   "source": [
    "status = pd.read_excel(r\"C:\\Users\\AICHA\\Box\\Cape Town Energy Transitions Bass Connections\\Class Materials 2024-2025\\Aerial Imagery\\CapeTown_ImageIDs.xlsx\")\n",
    "completed = status[status[\"Status\"]=='Completed']\n",
    "completed = completed[['Image ID', 'Annotator']]\n",
    "completed"
   ]
  },
  {
   "cell_type": "markdown",
   "metadata": {},
   "source": [
    "There are 2807 images of Cape Town in total. As of Nov 29, there 544 completed images, including those that have no solar panel annotation. 151 geotiff images have annotations."
   ]
  },
  {
   "cell_type": "code",
   "execution_count": 31,
   "metadata": {},
   "outputs": [
    {
     "data": {
      "text/plain": [
       "array(['Gary Alvarez Mejia', 'Abby Finkle', 'Vanshika Mittal',\n",
       "       'Biz Yoder', 'Zeinab Mukhtar', 'Ye Khaung Oo', 'Brian Mulu Mutua',\n",
       "       'Halle Evans', 'Ummamah Shah', 'Fiona Bolte-Bradhurst'],\n",
       "      dtype=object)"
      ]
     },
     "execution_count": 31,
     "metadata": {},
     "output_type": "execute_result"
    }
   ],
   "source": [
    "completed['Annotator'].unique()"
   ]
  },
  {
   "cell_type": "markdown",
   "metadata": {},
   "source": [
    "Some annotators marked images as completed in the status sheet but didn't update their annotations layer. I can know which annotators didn't update their layers by comparing the version history of the excel sheet and that of their annotation layer. I will only select the images of annotators that uploaded up to date annotations layer. They are Fiona, Ummamah, Ye, Brian, and Biz."
   ]
  },
  {
   "cell_type": "code",
   "execution_count": null,
   "metadata": {},
   "outputs": [
    {
     "name": "stderr",
     "output_type": "stream",
     "text": [
      "c:\\Users\\AICHA\\miniconda3\\envs\\solar\\lib\\site-packages\\openpyxl\\worksheet\\_reader.py:329: UserWarning: Conditional Formatting extension is not supported and will be removed\n",
      "  warn(msg)\n"
     ]
    }
   ],
   "source": [
    "# Filter completed annotations\n",
    "selected_annotators = ['Biz Yoder', 'Brian Mulu Mutua', 'Fiona Bolte-Bradhurst', 'Ummamah Shah', 'Ye Khaung Oo']\n",
    "filtered_completed_df = completed[completed['Annotator'].isin(selected_annotators)]\n",
    "\n",
    "# Map annotator names to keys\n",
    "key_mapping = {\n",
    "    'Biz Yoder': 'biz',\n",
    "    'Brian Mulu Mutua': 'mutua',\n",
    "    'Fiona Bolte-Bradhurst': 'fiona',\n",
    "    'Ummamah Shah': 'shah',\n",
    "    'Ye Khaung Oo': 'ye'\n",
    "}\n",
    "\n",
    "annotator_image_ids = filtered_completed_df.groupby('Annotator')['Image ID'].apply(list).to_dict()\n",
    "annotator_image_ids = {key_mapping[old_key]: value for old_key, value in annotator_image_ids.items()}"
   ]
  },
  {
   "cell_type": "markdown",
   "metadata": {},
   "source": [
    "It looks like there are a lot of polygons not associated with any image. After a lot of investigation, I think these are the potential causes for this high number:\n",
    "- I found that for some annotators, their polygons don't exist in the images they marked as completed. I verified this carefully for Ye. I opened the images he marked as completed and mapped some polygons for which image_name is null in annotations dataframe. so, some annotators may have not marked images as completed even though they annotated them and updated their annotation layer -> **I later realized that soome missing annotations are under the name of Biz. This is because I kept the 2020 annotations in her dataframe.**\n",
    "- The annotators used others' annotation layer and added their own annotations to the same layer. \n",
    "- Some problem with the CRS of the layers during annotation\n",
    "- Those polygons come from the annotations of 2020 ECW file the team worked on during the summer. Although I tried to remove the 2020 annotations from the new shapefiles (by selecting path!=previous annotations layer in the function clean_annotation_layers), it seems that those polygons still exist. "
   ]
  },
  {
   "cell_type": "markdown",
   "metadata": {},
   "source": [
    "I noticed that some annotators marked some polygons as PV heaters when they clearly aren't. They also marked them with uncertain flag but they are solar panels. That's why, I'm keeping the uncertain and heater marked solar panels in my geodataframe. In the future, we need to process and analyze these polygons further. "
   ]
  },
  {
   "cell_type": "code",
   "execution_count": null,
   "metadata": {},
   "outputs": [],
   "source": [
    "# Extract the CRS of the images. This will be used to reproject the annotations layers to this CRS to avoid any inconsistencies.\n",
    "input_tif = r\"C:\\Users\\AICHA\\Box\\Cape Town Energy Transitions Bass Connections\\Class Materials 2024-2025\\Aerial Imagery\\AP2023_TIFFs_Bass\\2023_RGB_8cm_W18B_5.tif\"\n",
    "with rasterio.open(input_tif) as dataset:\n",
    "    geotif_crs = dataset.crs\n",
    "\n",
    "\n",
    "def clean_annotation_layers(layer):\n",
    "    copy = layer\n",
    "    copy = copy.to_crs(geotif_crs)\n",
    "    copy['area'] = copy.geometry.area\n",
    "    \n",
    "    columns_to_drop = ['layer', 'path', 'PV_heater', 'uncertflag', 'PV_Pool', 'PV_pool']\n",
    "    copy = copy.drop([col for col in columns_to_drop if col in copy.columns], axis=1) \n",
    "    \n",
    "    copy.reset_index(drop=True, inplace=True)       \n",
    "    \n",
    "    return copy"
   ]
  },
  {
   "cell_type": "code",
   "execution_count": null,
   "metadata": {},
   "outputs": [
    {
     "data": {
      "text/html": [
       "<div>\n",
       "<style scoped>\n",
       "    .dataframe tbody tr th:only-of-type {\n",
       "        vertical-align: middle;\n",
       "    }\n",
       "\n",
       "    .dataframe tbody tr th {\n",
       "        vertical-align: top;\n",
       "    }\n",
       "\n",
       "    .dataframe thead th {\n",
       "        text-align: right;\n",
       "    }\n",
       "</style>\n",
       "<table border=\"1\" class=\"dataframe\">\n",
       "  <thead>\n",
       "    <tr style=\"text-align: right;\">\n",
       "      <th></th>\n",
       "      <th>id</th>\n",
       "      <th>geometry</th>\n",
       "      <th>annotator</th>\n",
       "      <th>area</th>\n",
       "      <th>centroid_latitude</th>\n",
       "      <th>centroid_longitude</th>\n",
       "      <th>image_name</th>\n",
       "      <th>nw_corner_of_image_latitude</th>\n",
       "      <th>nw_corner_of_image_longitude</th>\n",
       "      <th>se_corner_of_image_latitude</th>\n",
       "      <th>se_corner_of_image_longitude</th>\n",
       "    </tr>\n",
       "  </thead>\n",
       "  <tbody>\n",
       "    <tr>\n",
       "      <th>0</th>\n",
       "      <td>0</td>\n",
       "      <td>POLYGON ((-55245.106 -3753790.252, -55222.923 ...</td>\n",
       "      <td>fiona</td>\n",
       "      <td>44.764537</td>\n",
       "      <td>-3.753790e+06</td>\n",
       "      <td>-55233.927554</td>\n",
       "      <td>None</td>\n",
       "      <td>None</td>\n",
       "      <td>None</td>\n",
       "      <td>None</td>\n",
       "      <td>None</td>\n",
       "    </tr>\n",
       "    <tr>\n",
       "      <th>1</th>\n",
       "      <td>1</td>\n",
       "      <td>POLYGON ((-55244.845 -3753792.427, -55243.801 ...</td>\n",
       "      <td>fiona</td>\n",
       "      <td>8.695597</td>\n",
       "      <td>-3.753796e+06</td>\n",
       "      <td>-55243.860816</td>\n",
       "      <td>None</td>\n",
       "      <td>None</td>\n",
       "      <td>None</td>\n",
       "      <td>None</td>\n",
       "      <td>None</td>\n",
       "    </tr>\n",
       "    <tr>\n",
       "      <th>2</th>\n",
       "      <td>2</td>\n",
       "      <td>POLYGON ((-55243.714 -3753800.692, -55222.227 ...</td>\n",
       "      <td>fiona</td>\n",
       "      <td>45.388895</td>\n",
       "      <td>-3.753801e+06</td>\n",
       "      <td>-55233.151068</td>\n",
       "      <td>None</td>\n",
       "      <td>None</td>\n",
       "      <td>None</td>\n",
       "      <td>None</td>\n",
       "      <td>None</td>\n",
       "    </tr>\n",
       "    <tr>\n",
       "      <th>3</th>\n",
       "      <td>3</td>\n",
       "      <td>POLYGON ((-55223.967 -3753790.6, -55222.923 -3...</td>\n",
       "      <td>fiona</td>\n",
       "      <td>8.498829</td>\n",
       "      <td>-3.753794e+06</td>\n",
       "      <td>-55223.009514</td>\n",
       "      <td>None</td>\n",
       "      <td>None</td>\n",
       "      <td>None</td>\n",
       "      <td>None</td>\n",
       "      <td>None</td>\n",
       "    </tr>\n",
       "    <tr>\n",
       "      <th>4</th>\n",
       "      <td>4</td>\n",
       "      <td>POLYGON ((-57165.854 -3758134.693, -57160.226 ...</td>\n",
       "      <td>fiona</td>\n",
       "      <td>30.248899</td>\n",
       "      <td>-3.758133e+06</td>\n",
       "      <td>-57161.713744</td>\n",
       "      <td>None</td>\n",
       "      <td>None</td>\n",
       "      <td>None</td>\n",
       "      <td>None</td>\n",
       "      <td>None</td>\n",
       "    </tr>\n",
       "    <tr>\n",
       "      <th>...</th>\n",
       "      <td>...</td>\n",
       "      <td>...</td>\n",
       "      <td>...</td>\n",
       "      <td>...</td>\n",
       "      <td>...</td>\n",
       "      <td>...</td>\n",
       "      <td>...</td>\n",
       "      <td>...</td>\n",
       "      <td>...</td>\n",
       "      <td>...</td>\n",
       "      <td>...</td>\n",
       "    </tr>\n",
       "    <tr>\n",
       "      <th>16223</th>\n",
       "      <td>16223</td>\n",
       "      <td>POLYGON ((-17705.487 -3769231.7, -17701.322 -3...</td>\n",
       "      <td>biz</td>\n",
       "      <td>4.267862</td>\n",
       "      <td>-3.769231e+06</td>\n",
       "      <td>-17703.207145</td>\n",
       "      <td>None</td>\n",
       "      <td>None</td>\n",
       "      <td>None</td>\n",
       "      <td>None</td>\n",
       "      <td>None</td>\n",
       "    </tr>\n",
       "    <tr>\n",
       "      <th>16224</th>\n",
       "      <td>16224</td>\n",
       "      <td>POLYGON ((-17704.553 -3769232.732, -17701.419 ...</td>\n",
       "      <td>biz</td>\n",
       "      <td>6.051819</td>\n",
       "      <td>-3.769233e+06</td>\n",
       "      <td>-17702.679721</td>\n",
       "      <td>None</td>\n",
       "      <td>None</td>\n",
       "      <td>None</td>\n",
       "      <td>None</td>\n",
       "      <td>None</td>\n",
       "    </tr>\n",
       "    <tr>\n",
       "      <th>16225</th>\n",
       "      <td>16225</td>\n",
       "      <td>POLYGON ((-17602.028 -3769046.931, -17599.44 -...</td>\n",
       "      <td>biz</td>\n",
       "      <td>5.033903</td>\n",
       "      <td>-3.769048e+06</td>\n",
       "      <td>-17601.247101</td>\n",
       "      <td>None</td>\n",
       "      <td>None</td>\n",
       "      <td>None</td>\n",
       "      <td>None</td>\n",
       "      <td>None</td>\n",
       "    </tr>\n",
       "    <tr>\n",
       "      <th>16226</th>\n",
       "      <td>16226</td>\n",
       "      <td>POLYGON ((-17597.922 -3769049.169, -17591.772 ...</td>\n",
       "      <td>biz</td>\n",
       "      <td>11.997585</td>\n",
       "      <td>-3.769052e+06</td>\n",
       "      <td>-17595.268258</td>\n",
       "      <td>None</td>\n",
       "      <td>None</td>\n",
       "      <td>None</td>\n",
       "      <td>None</td>\n",
       "      <td>None</td>\n",
       "    </tr>\n",
       "    <tr>\n",
       "      <th>16227</th>\n",
       "      <td>16227</td>\n",
       "      <td>POLYGON ((-17599.459 -3769049.032, -17598.447 ...</td>\n",
       "      <td>biz</td>\n",
       "      <td>1.641544</td>\n",
       "      <td>-3.769050e+06</td>\n",
       "      <td>-17599.350329</td>\n",
       "      <td>None</td>\n",
       "      <td>None</td>\n",
       "      <td>None</td>\n",
       "      <td>None</td>\n",
       "      <td>None</td>\n",
       "    </tr>\n",
       "  </tbody>\n",
       "</table>\n",
       "<p>16071 rows × 11 columns</p>\n",
       "</div>"
      ],
      "text/plain": [
       "          id                                           geometry annotator  \\\n",
       "0          0  POLYGON ((-55245.106 -3753790.252, -55222.923 ...     fiona   \n",
       "1          1  POLYGON ((-55244.845 -3753792.427, -55243.801 ...     fiona   \n",
       "2          2  POLYGON ((-55243.714 -3753800.692, -55222.227 ...     fiona   \n",
       "3          3  POLYGON ((-55223.967 -3753790.6, -55222.923 -3...     fiona   \n",
       "4          4  POLYGON ((-57165.854 -3758134.693, -57160.226 ...     fiona   \n",
       "...      ...                                                ...       ...   \n",
       "16223  16223  POLYGON ((-17705.487 -3769231.7, -17701.322 -3...       biz   \n",
       "16224  16224  POLYGON ((-17704.553 -3769232.732, -17701.419 ...       biz   \n",
       "16225  16225  POLYGON ((-17602.028 -3769046.931, -17599.44 -...       biz   \n",
       "16226  16226  POLYGON ((-17597.922 -3769049.169, -17591.772 ...       biz   \n",
       "16227  16227  POLYGON ((-17599.459 -3769049.032, -17598.447 ...       biz   \n",
       "\n",
       "            area  centroid_latitude  centroid_longitude image_name  \\\n",
       "0      44.764537      -3.753790e+06       -55233.927554       None   \n",
       "1       8.695597      -3.753796e+06       -55243.860816       None   \n",
       "2      45.388895      -3.753801e+06       -55233.151068       None   \n",
       "3       8.498829      -3.753794e+06       -55223.009514       None   \n",
       "4      30.248899      -3.758133e+06       -57161.713744       None   \n",
       "...          ...                ...                 ...        ...   \n",
       "16223   4.267862      -3.769231e+06       -17703.207145       None   \n",
       "16224   6.051819      -3.769233e+06       -17702.679721       None   \n",
       "16225   5.033903      -3.769048e+06       -17601.247101       None   \n",
       "16226  11.997585      -3.769052e+06       -17595.268258       None   \n",
       "16227   1.641544      -3.769050e+06       -17599.350329       None   \n",
       "\n",
       "      nw_corner_of_image_latitude nw_corner_of_image_longitude  \\\n",
       "0                            None                         None   \n",
       "1                            None                         None   \n",
       "2                            None                         None   \n",
       "3                            None                         None   \n",
       "4                            None                         None   \n",
       "...                           ...                          ...   \n",
       "16223                        None                         None   \n",
       "16224                        None                         None   \n",
       "16225                        None                         None   \n",
       "16226                        None                         None   \n",
       "16227                        None                         None   \n",
       "\n",
       "      se_corner_of_image_latitude se_corner_of_image_longitude  \n",
       "0                            None                         None  \n",
       "1                            None                         None  \n",
       "2                            None                         None  \n",
       "3                            None                         None  \n",
       "4                            None                         None  \n",
       "...                           ...                          ...  \n",
       "16223                        None                         None  \n",
       "16224                        None                         None  \n",
       "16225                        None                         None  \n",
       "16226                        None                         None  \n",
       "16227                        None                         None  \n",
       "\n",
       "[16071 rows x 11 columns]"
      ]
     },
     "execution_count": 21,
     "metadata": {},
     "output_type": "execute_result"
    }
   ],
   "source": [
    "# Define file paths\n",
    "file_paths = {\n",
    "    'fiona': r\"C:\\Users\\AICHA\\Box\\Cape Town Energy Transitions Bass Connections\\Class Materials 2024-2025\\Aerial Imagery\\Annotation layers\\Fiona Bolte-Bradhurst\\11.21\\bolte_bradhurst_annotations_112124.shp\",\n",
    "    'shah': r\"C:\\Users\\AICHA\\Box\\Cape Town Energy Transitions Bass Connections\\Class Materials 2024-2025\\Aerial Imagery\\Annotation layers\\Ummamah Shah\\Shah_2024.shp\",\n",
    "    'mutua': r\"C:\\Users\\AICHA\\Box\\Cape Town Energy Transitions Bass Connections\\Class Materials 2024-2025\\Aerial Imagery\\Annotation layers\\Brian Mulu Mutua\\mutua_annotations 1027.shp\",\n",
    "    'ye': r\"C:\\Users\\AICHA\\Box\\Cape Town Energy Transitions Bass Connections\\Class Materials 2024-2025\\Aerial Imagery\\Annotation layers\\Ye Khaung Oo\\Ye_annotations.shp\",\n",
    "    'biz': r\"C:\\Users\\AICHA\\Box\\Cape Town Energy Transitions Bass Connections\\Class Materials 2024-2025\\Aerial Imagery\\Annotation layers\\Biz Yoder\\yoder_annotations 1025.shp\"\n",
    "}\n",
    "\n",
    "# Load and process annotations\n",
    "annotations_list = []\n",
    "for annotator, path in file_paths.items():\n",
    "    annotations = gpd.read_file(path)\n",
    "    annotations['annotator'] = annotator\n",
    "    if annotator != 'biz':\n",
    "        annotations = annotations[annotations['path'].isnull()]\n",
    "    annotations = clean_annotation_layers(annotations)\n",
    "    annotations_list.append(annotations)\n",
    "\n",
    "# Concatenate all annotations and add important polygon features\n",
    "annotations = pd.concat(annotations_list, ignore_index=True)\n",
    "annotations.reset_index(drop=True, inplace=True)\n",
    "annotations['id'] = annotations.index\n",
    "annotations['centroid'] = annotations.geometry.centroid\n",
    "annotations['centroid_latitude'] = annotations.centroid.y\n",
    "annotations['centroid_longitude'] = annotations.centroid.x\n",
    "annotations.drop(columns=['centroid'], inplace=True)\n",
    "annotations = annotations[annotations['geometry'].notnull()]\n",
    "\n",
    "# Add additional columns to annotations\n",
    "annotations[['image_name', 'nw_corner_of_image_latitude', 'nw_corner_of_image_longitude', \n",
    "             'se_corner_of_image_latitude', 'se_corner_of_image_longitude']] = None\n",
    "\n",
    "annotations"
   ]
  },
  {
   "cell_type": "markdown",
   "metadata": {},
   "source": [
    "Next, we need to determine the image each polygon belongs to. We are doing this by calculating the border coordinates for each annotator's images, and then checking which polygon is within the bounds of the image."
   ]
  },
  {
   "cell_type": "code",
   "execution_count": null,
   "metadata": {},
   "outputs": [],
   "source": [
    "def get_image_border_coordinates(image_path):\n",
    "    with rasterio.open(image_path) as src:\n",
    "        return src.bounds\n",
    "\n",
    "folder_path = r'C:\\Users\\AICHA\\Box\\Cape Town Energy Transitions Bass Connections\\Class Materials 2024-2025\\Aerial Imagery\\AP2023_TIFFs_Bass'\n",
    "prefix = '2023_RGB_8cm_'\n",
    "\n",
    "# Dictionary to store border coordinates for each annotator's images\n",
    "annotator_border_coordinates = {}\n",
    "completed_ann = []\n",
    "\n",
    "# Dictionary to store already processed images\n",
    "processed_images = {}\n",
    "\n",
    "# Iterate over each annotator and add their image names\n",
    "for annotator, image_names in annotator_image_ids.items():\n",
    "    border_coordinates = {}\n",
    "    for image_name in image_names:\n",
    "        full_name = f\"{prefix}{image_name}.tif\"\n",
    "        image_path = os.path.join(folder_path, full_name)\n",
    "        \n",
    "        if os.path.exists(image_path):\n",
    "            if image_name not in processed_images:\n",
    "                coordinates = get_image_border_coordinates(image_path)\n",
    "                processed_images[image_name] = coordinates\n",
    "            else:\n",
    "                coordinates = processed_images[image_name]\n",
    "            \n",
    "            border_coordinates[image_name] = coordinates\n",
    "    \n",
    "    annotator_border_coordinates[annotator] = border_coordinates\n",
    "    completed_ann.append(annotator)"
   ]
  },
  {
   "cell_type": "code",
   "execution_count": null,
   "metadata": {},
   "outputs": [],
   "source": [
    "BoundingBox = namedtuple('BoundingBox', ['left', 'bottom', 'right', 'top'])\n",
    "\n",
    "transformed_dict = {}\n",
    "for annotator, images in annotator_border_coordinates.items():\n",
    "    transformed_dict[annotator] = {image: {'left': bounds.left, 'bottom': bounds.bottom, 'right': bounds.right, 'top': bounds.top} for image, bounds in images.items()}\n",
    "\n",
    "annotator_border_coordinates = transformed_dict "
   ]
  },
  {
   "cell_type": "code",
   "execution_count": null,
   "metadata": {},
   "outputs": [],
   "source": [
    "# Function to check if the centroid (consequently the polygon) is within a bounding box\n",
    "def is_point_within_bounds(lat, lon, bounds):\n",
    "    return bounds['left'] <= lon <= bounds['right'] and bounds['bottom'] <= lat <= bounds['top']"
   ]
  },
  {
   "cell_type": "code",
   "execution_count": null,
   "metadata": {},
   "outputs": [
    {
     "data": {
      "text/html": [
       "<div>\n",
       "<style scoped>\n",
       "    .dataframe tbody tr th:only-of-type {\n",
       "        vertical-align: middle;\n",
       "    }\n",
       "\n",
       "    .dataframe tbody tr th {\n",
       "        vertical-align: top;\n",
       "    }\n",
       "\n",
       "    .dataframe thead th {\n",
       "        text-align: right;\n",
       "    }\n",
       "</style>\n",
       "<table border=\"1\" class=\"dataframe\">\n",
       "  <thead>\n",
       "    <tr style=\"text-align: right;\">\n",
       "      <th></th>\n",
       "      <th>id</th>\n",
       "      <th>geometry</th>\n",
       "      <th>annotator</th>\n",
       "      <th>area</th>\n",
       "      <th>centroid_latitude</th>\n",
       "      <th>centroid_longitude</th>\n",
       "      <th>image_name</th>\n",
       "      <th>nw_corner_of_image_latitude</th>\n",
       "      <th>nw_corner_of_image_longitude</th>\n",
       "      <th>se_corner_of_image_latitude</th>\n",
       "      <th>se_corner_of_image_longitude</th>\n",
       "    </tr>\n",
       "  </thead>\n",
       "  <tbody>\n",
       "    <tr>\n",
       "      <th>0</th>\n",
       "      <td>0</td>\n",
       "      <td>POLYGON ((-55245.106 -3753790.252, -55222.923 ...</td>\n",
       "      <td>fiona</td>\n",
       "      <td>44.764537</td>\n",
       "      <td>-3.753790e+06</td>\n",
       "      <td>-55233.927554</td>\n",
       "      <td>None</td>\n",
       "      <td>None</td>\n",
       "      <td>None</td>\n",
       "      <td>None</td>\n",
       "      <td>None</td>\n",
       "    </tr>\n",
       "    <tr>\n",
       "      <th>1</th>\n",
       "      <td>1</td>\n",
       "      <td>POLYGON ((-55244.845 -3753792.427, -55243.801 ...</td>\n",
       "      <td>fiona</td>\n",
       "      <td>8.695597</td>\n",
       "      <td>-3.753796e+06</td>\n",
       "      <td>-55243.860816</td>\n",
       "      <td>None</td>\n",
       "      <td>None</td>\n",
       "      <td>None</td>\n",
       "      <td>None</td>\n",
       "      <td>None</td>\n",
       "    </tr>\n",
       "    <tr>\n",
       "      <th>2</th>\n",
       "      <td>2</td>\n",
       "      <td>POLYGON ((-55243.714 -3753800.692, -55222.227 ...</td>\n",
       "      <td>fiona</td>\n",
       "      <td>45.388895</td>\n",
       "      <td>-3.753801e+06</td>\n",
       "      <td>-55233.151068</td>\n",
       "      <td>None</td>\n",
       "      <td>None</td>\n",
       "      <td>None</td>\n",
       "      <td>None</td>\n",
       "      <td>None</td>\n",
       "    </tr>\n",
       "    <tr>\n",
       "      <th>3</th>\n",
       "      <td>3</td>\n",
       "      <td>POLYGON ((-55223.967 -3753790.6, -55222.923 -3...</td>\n",
       "      <td>fiona</td>\n",
       "      <td>8.498829</td>\n",
       "      <td>-3.753794e+06</td>\n",
       "      <td>-55223.009514</td>\n",
       "      <td>None</td>\n",
       "      <td>None</td>\n",
       "      <td>None</td>\n",
       "      <td>None</td>\n",
       "      <td>None</td>\n",
       "    </tr>\n",
       "    <tr>\n",
       "      <th>4</th>\n",
       "      <td>4</td>\n",
       "      <td>POLYGON ((-57165.854 -3758134.693, -57160.226 ...</td>\n",
       "      <td>fiona</td>\n",
       "      <td>30.248899</td>\n",
       "      <td>-3.758133e+06</td>\n",
       "      <td>-57161.713744</td>\n",
       "      <td>None</td>\n",
       "      <td>None</td>\n",
       "      <td>None</td>\n",
       "      <td>None</td>\n",
       "      <td>None</td>\n",
       "    </tr>\n",
       "    <tr>\n",
       "      <th>...</th>\n",
       "      <td>...</td>\n",
       "      <td>...</td>\n",
       "      <td>...</td>\n",
       "      <td>...</td>\n",
       "      <td>...</td>\n",
       "      <td>...</td>\n",
       "      <td>...</td>\n",
       "      <td>...</td>\n",
       "      <td>...</td>\n",
       "      <td>...</td>\n",
       "      <td>...</td>\n",
       "    </tr>\n",
       "    <tr>\n",
       "      <th>16223</th>\n",
       "      <td>16223</td>\n",
       "      <td>POLYGON ((-17705.487 -3769231.7, -17701.322 -3...</td>\n",
       "      <td>biz</td>\n",
       "      <td>4.267862</td>\n",
       "      <td>-3.769231e+06</td>\n",
       "      <td>-17703.207145</td>\n",
       "      <td>None</td>\n",
       "      <td>None</td>\n",
       "      <td>None</td>\n",
       "      <td>None</td>\n",
       "      <td>None</td>\n",
       "    </tr>\n",
       "    <tr>\n",
       "      <th>16224</th>\n",
       "      <td>16224</td>\n",
       "      <td>POLYGON ((-17704.553 -3769232.732, -17701.419 ...</td>\n",
       "      <td>biz</td>\n",
       "      <td>6.051819</td>\n",
       "      <td>-3.769233e+06</td>\n",
       "      <td>-17702.679721</td>\n",
       "      <td>None</td>\n",
       "      <td>None</td>\n",
       "      <td>None</td>\n",
       "      <td>None</td>\n",
       "      <td>None</td>\n",
       "    </tr>\n",
       "    <tr>\n",
       "      <th>16225</th>\n",
       "      <td>16225</td>\n",
       "      <td>POLYGON ((-17602.028 -3769046.931, -17599.44 -...</td>\n",
       "      <td>biz</td>\n",
       "      <td>5.033903</td>\n",
       "      <td>-3.769048e+06</td>\n",
       "      <td>-17601.247101</td>\n",
       "      <td>None</td>\n",
       "      <td>None</td>\n",
       "      <td>None</td>\n",
       "      <td>None</td>\n",
       "      <td>None</td>\n",
       "    </tr>\n",
       "    <tr>\n",
       "      <th>16226</th>\n",
       "      <td>16226</td>\n",
       "      <td>POLYGON ((-17597.922 -3769049.169, -17591.772 ...</td>\n",
       "      <td>biz</td>\n",
       "      <td>11.997585</td>\n",
       "      <td>-3.769052e+06</td>\n",
       "      <td>-17595.268258</td>\n",
       "      <td>None</td>\n",
       "      <td>None</td>\n",
       "      <td>None</td>\n",
       "      <td>None</td>\n",
       "      <td>None</td>\n",
       "    </tr>\n",
       "    <tr>\n",
       "      <th>16227</th>\n",
       "      <td>16227</td>\n",
       "      <td>POLYGON ((-17599.459 -3769049.032, -17598.447 ...</td>\n",
       "      <td>biz</td>\n",
       "      <td>1.641544</td>\n",
       "      <td>-3.769050e+06</td>\n",
       "      <td>-17599.350329</td>\n",
       "      <td>None</td>\n",
       "      <td>None</td>\n",
       "      <td>None</td>\n",
       "      <td>None</td>\n",
       "      <td>None</td>\n",
       "    </tr>\n",
       "  </tbody>\n",
       "</table>\n",
       "<p>16071 rows × 11 columns</p>\n",
       "</div>"
      ],
      "text/plain": [
       "          id                                           geometry annotator  \\\n",
       "0          0  POLYGON ((-55245.106 -3753790.252, -55222.923 ...     fiona   \n",
       "1          1  POLYGON ((-55244.845 -3753792.427, -55243.801 ...     fiona   \n",
       "2          2  POLYGON ((-55243.714 -3753800.692, -55222.227 ...     fiona   \n",
       "3          3  POLYGON ((-55223.967 -3753790.6, -55222.923 -3...     fiona   \n",
       "4          4  POLYGON ((-57165.854 -3758134.693, -57160.226 ...     fiona   \n",
       "...      ...                                                ...       ...   \n",
       "16223  16223  POLYGON ((-17705.487 -3769231.7, -17701.322 -3...       biz   \n",
       "16224  16224  POLYGON ((-17704.553 -3769232.732, -17701.419 ...       biz   \n",
       "16225  16225  POLYGON ((-17602.028 -3769046.931, -17599.44 -...       biz   \n",
       "16226  16226  POLYGON ((-17597.922 -3769049.169, -17591.772 ...       biz   \n",
       "16227  16227  POLYGON ((-17599.459 -3769049.032, -17598.447 ...       biz   \n",
       "\n",
       "            area  centroid_latitude  centroid_longitude image_name  \\\n",
       "0      44.764537      -3.753790e+06       -55233.927554       None   \n",
       "1       8.695597      -3.753796e+06       -55243.860816       None   \n",
       "2      45.388895      -3.753801e+06       -55233.151068       None   \n",
       "3       8.498829      -3.753794e+06       -55223.009514       None   \n",
       "4      30.248899      -3.758133e+06       -57161.713744       None   \n",
       "...          ...                ...                 ...        ...   \n",
       "16223   4.267862      -3.769231e+06       -17703.207145       None   \n",
       "16224   6.051819      -3.769233e+06       -17702.679721       None   \n",
       "16225   5.033903      -3.769048e+06       -17601.247101       None   \n",
       "16226  11.997585      -3.769052e+06       -17595.268258       None   \n",
       "16227   1.641544      -3.769050e+06       -17599.350329       None   \n",
       "\n",
       "      nw_corner_of_image_latitude nw_corner_of_image_longitude  \\\n",
       "0                            None                         None   \n",
       "1                            None                         None   \n",
       "2                            None                         None   \n",
       "3                            None                         None   \n",
       "4                            None                         None   \n",
       "...                           ...                          ...   \n",
       "16223                        None                         None   \n",
       "16224                        None                         None   \n",
       "16225                        None                         None   \n",
       "16226                        None                         None   \n",
       "16227                        None                         None   \n",
       "\n",
       "      se_corner_of_image_latitude se_corner_of_image_longitude  \n",
       "0                            None                         None  \n",
       "1                            None                         None  \n",
       "2                            None                         None  \n",
       "3                            None                         None  \n",
       "4                            None                         None  \n",
       "...                           ...                          ...  \n",
       "16223                        None                         None  \n",
       "16224                        None                         None  \n",
       "16225                        None                         None  \n",
       "16226                        None                         None  \n",
       "16227                        None                         None  \n",
       "\n",
       "[16071 rows x 11 columns]"
      ]
     },
     "execution_count": 76,
     "metadata": {},
     "output_type": "execute_result"
    }
   ],
   "source": [
    "flattened_coordinates = {}\n",
    "for annotator, images in annotator_border_coordinates.items():\n",
    "    flattened_coordinates.update(images)\n",
    "\n",
    "# Iterate over each row in the annotations DataFrame\n",
    "for idx, row in annotations.iterrows():\n",
    "    # annotator = row['annotator']\n",
    "    centroid_lat = row['centroid_latitude']\n",
    "    centroid_lon = row['centroid_longitude']\n",
    "    \n",
    "    # Check which image the centroid belongs to\n",
    "    for image_name, bounds in flattened_coordinates.items():\n",
    "        if is_point_within_bounds(centroid_lat, centroid_lon, bounds):\n",
    "            annotations.loc[idx, 'image_name'] = image_name\n",
    "            annotations.loc[idx, 'nw_corner_of_image_latitude'] = bounds['top']\n",
    "            annotations.loc[idx, 'nw_corner_of_image_longitude'] = bounds['left']\n",
    "            annotations.loc[idx, 'se_corner_of_image_latitude'] = bounds['bottom']\n",
    "            annotations.loc[idx, 'se_corner_of_image_longitude'] = bounds['right']\n",
    "            break\n",
    "\n",
    "# annotations"
   ]
  },
  {
   "cell_type": "code",
   "execution_count": null,
   "metadata": {},
   "outputs": [
    {
     "name": "stderr",
     "output_type": "stream",
     "text": [
      "C:\\Users\\AICHA\\AppData\\Local\\Temp\\ipykernel_31352\\1511238504.py:2: UserWarning: Column names longer than 10 characters will be truncated when saved to ESRI Shapefile.\n",
      "  available_annotations.to_file(r\"C:\\Users\\AICHA\\Box\\Cape Town Energy Transitions Bass Connections\\Class Materials 2024-2025\\Teams\\Team 1 Machine learning\\CT - MachineLearning\\S1 Machine Learning\\available_annotations.shp\")\n",
      "c:\\Users\\AICHA\\miniconda3\\envs\\solar\\lib\\site-packages\\pyogrio\\raw.py:723: RuntimeWarning: Normalized/laundered field name: 'centroid_latitude' to 'centroid_l'\n",
      "  ogr_write(\n",
      "c:\\Users\\AICHA\\miniconda3\\envs\\solar\\lib\\site-packages\\pyogrio\\raw.py:723: RuntimeWarning: Normalized/laundered field name: 'centroid_longitude' to 'centroid_1'\n",
      "  ogr_write(\n",
      "c:\\Users\\AICHA\\miniconda3\\envs\\solar\\lib\\site-packages\\pyogrio\\raw.py:723: RuntimeWarning: Normalized/laundered field name: 'nw_corner_of_image_latitude' to 'nw_corner_'\n",
      "  ogr_write(\n",
      "c:\\Users\\AICHA\\miniconda3\\envs\\solar\\lib\\site-packages\\pyogrio\\raw.py:723: RuntimeWarning: Normalized/laundered field name: 'nw_corner_of_image_longitude' to 'nw_corne_1'\n",
      "  ogr_write(\n",
      "c:\\Users\\AICHA\\miniconda3\\envs\\solar\\lib\\site-packages\\pyogrio\\raw.py:723: RuntimeWarning: Normalized/laundered field name: 'se_corner_of_image_latitude' to 'se_corner_'\n",
      "  ogr_write(\n",
      "c:\\Users\\AICHA\\miniconda3\\envs\\solar\\lib\\site-packages\\pyogrio\\raw.py:723: RuntimeWarning: Normalized/laundered field name: 'se_corner_of_image_longitude' to 'se_corne_1'\n",
      "  ogr_write(\n"
     ]
    }
   ],
   "source": [
    "# available_annotations = annotations[annotations['image_name'].notnull()]\n",
    "# available_annotations.to_file(r\"C:\\Users\\AICHA\\Box\\Cape Town Energy Transitions Bass Connections\\Class Materials 2024-2025\\Teams\\Team 1 Machine learning\\CT - MachineLearning\\S1 Machine Learning\\available_annotations.shp\")"
   ]
  },
  {
   "cell_type": "markdown",
   "metadata": {},
   "source": [
    "Now, we calculate the pixel coordinates and the area in pixels of each polygon."
   ]
  },
  {
   "cell_type": "code",
   "execution_count": 112,
   "metadata": {},
   "outputs": [
    {
     "name": "stderr",
     "output_type": "stream",
     "text": [
      "Processing Images:   0%|          | 0/113 [00:00<?, ?it/s]"
     ]
    },
    {
     "name": "stdout",
     "output_type": "stream",
     "text": [
      "Processing image: W07C_10\n"
     ]
    },
    {
     "name": "stderr",
     "output_type": "stream",
     "text": [
      "Processing Images:   1%|          | 1/113 [00:03<05:49,  3.12s/it]"
     ]
    },
    {
     "name": "stdout",
     "output_type": "stream",
     "text": [
      "Processing image: W07C_11\n"
     ]
    },
    {
     "name": "stderr",
     "output_type": "stream",
     "text": [
      "Processing Images:   2%|▏         | 2/113 [00:10<10:45,  5.81s/it]"
     ]
    },
    {
     "name": "stdout",
     "output_type": "stream",
     "text": [
      "Processing image: W07C_12\n"
     ]
    },
    {
     "name": "stderr",
     "output_type": "stream",
     "text": [
      "Processing Images:   3%|▎         | 3/113 [00:21<14:43,  8.03s/it]"
     ]
    },
    {
     "name": "stdout",
     "output_type": "stream",
     "text": [
      "Processing image: W07C_13\n"
     ]
    },
    {
     "name": "stderr",
     "output_type": "stream",
     "text": [
      "Processing Images:   4%|▎         | 4/113 [00:45<25:53, 14.25s/it]"
     ]
    },
    {
     "name": "stdout",
     "output_type": "stream",
     "text": [
      "Processing image: W07C_16\n"
     ]
    },
    {
     "name": "stderr",
     "output_type": "stream",
     "text": [
      "Processing Images:   4%|▍         | 5/113 [01:18<37:39, 20.92s/it]"
     ]
    },
    {
     "name": "stdout",
     "output_type": "stream",
     "text": [
      "Processing image: W07C_17\n"
     ]
    },
    {
     "name": "stderr",
     "output_type": "stream",
     "text": [
      "Processing Images:   5%|▌         | 6/113 [01:43<40:19, 22.61s/it]"
     ]
    },
    {
     "name": "stdout",
     "output_type": "stream",
     "text": [
      "Processing image: W07C_2\n"
     ]
    },
    {
     "name": "stderr",
     "output_type": "stream",
     "text": [
      "Processing Images:   6%|▌         | 7/113 [02:12<43:18, 24.51s/it]"
     ]
    },
    {
     "name": "stdout",
     "output_type": "stream",
     "text": [
      "Processing image: W07C_21\n"
     ]
    },
    {
     "name": "stderr",
     "output_type": "stream",
     "text": [
      "Processing Images:   7%|▋         | 8/113 [02:40<45:01, 25.73s/it]"
     ]
    },
    {
     "name": "stdout",
     "output_type": "stream",
     "text": [
      "Processing image: W07C_22\n"
     ]
    },
    {
     "name": "stderr",
     "output_type": "stream",
     "text": [
      "Processing Images:   8%|▊         | 9/113 [03:11<47:22, 27.33s/it]"
     ]
    },
    {
     "name": "stdout",
     "output_type": "stream",
     "text": [
      "Processing image: W07C_23\n"
     ]
    },
    {
     "name": "stderr",
     "output_type": "stream",
     "text": [
      "Processing Images:   9%|▉         | 10/113 [03:37<46:14, 26.94s/it]"
     ]
    },
    {
     "name": "stdout",
     "output_type": "stream",
     "text": [
      "Processing image: W07C_3\n"
     ]
    },
    {
     "name": "stderr",
     "output_type": "stream",
     "text": [
      "Processing Images:  10%|▉         | 11/113 [04:06<46:39, 27.45s/it]"
     ]
    },
    {
     "name": "stdout",
     "output_type": "stream",
     "text": [
      "Processing image: W07C_4\n"
     ]
    },
    {
     "name": "stderr",
     "output_type": "stream",
     "text": [
      "Processing Images:  11%|█         | 12/113 [04:31<45:08, 26.82s/it]"
     ]
    },
    {
     "name": "stdout",
     "output_type": "stream",
     "text": [
      "Processing image: W07C_5\n"
     ]
    },
    {
     "name": "stderr",
     "output_type": "stream",
     "text": [
      "Processing Images:  12%|█▏        | 13/113 [04:59<45:28, 27.28s/it]"
     ]
    },
    {
     "name": "stdout",
     "output_type": "stream",
     "text": [
      "Processing image: W07C_6\n"
     ]
    },
    {
     "name": "stderr",
     "output_type": "stream",
     "text": [
      "Processing Images:  12%|█▏        | 14/113 [05:28<45:31, 27.59s/it]"
     ]
    },
    {
     "name": "stdout",
     "output_type": "stream",
     "text": [
      "Processing image: W07C_7\n"
     ]
    },
    {
     "name": "stderr",
     "output_type": "stream",
     "text": [
      "Processing Images:  13%|█▎        | 15/113 [05:53<43:47, 26.81s/it]"
     ]
    },
    {
     "name": "stdout",
     "output_type": "stream",
     "text": [
      "Processing image: W07C_8\n"
     ]
    },
    {
     "name": "stderr",
     "output_type": "stream",
     "text": [
      "Processing Images:  14%|█▍        | 16/113 [06:29<47:51, 29.61s/it]"
     ]
    },
    {
     "name": "stdout",
     "output_type": "stream",
     "text": [
      "Processing image: W07C_9\n"
     ]
    },
    {
     "name": "stderr",
     "output_type": "stream",
     "text": [
      "Processing Images:  15%|█▌        | 17/113 [06:57<46:51, 29.29s/it]"
     ]
    },
    {
     "name": "stdout",
     "output_type": "stream",
     "text": [
      "Processing image: W07D_1\n"
     ]
    },
    {
     "name": "stderr",
     "output_type": "stream",
     "text": [
      "Processing Images:  16%|█▌        | 18/113 [07:27<46:35, 29.43s/it]"
     ]
    },
    {
     "name": "stdout",
     "output_type": "stream",
     "text": [
      "Processing image: W07D_6\n"
     ]
    },
    {
     "name": "stderr",
     "output_type": "stream",
     "text": [
      "Processing Images:  17%|█▋        | 19/113 [08:00<47:43, 30.46s/it]"
     ]
    },
    {
     "name": "stdout",
     "output_type": "stream",
     "text": [
      "Processing image: W08A_1\n"
     ]
    },
    {
     "name": "stderr",
     "output_type": "stream",
     "text": [
      "Processing Images:  18%|█▊        | 20/113 [08:30<47:12, 30.46s/it]"
     ]
    },
    {
     "name": "stdout",
     "output_type": "stream",
     "text": [
      "Processing image: W08A_12\n"
     ]
    },
    {
     "name": "stderr",
     "output_type": "stream",
     "text": [
      "Processing Images:  19%|█▊        | 21/113 [09:04<47:57, 31.28s/it]"
     ]
    },
    {
     "name": "stdout",
     "output_type": "stream",
     "text": [
      "Processing image: W08A_2\n"
     ]
    },
    {
     "name": "stderr",
     "output_type": "stream",
     "text": [
      "Processing Images:  19%|█▉        | 22/113 [09:32<46:15, 30.50s/it]"
     ]
    },
    {
     "name": "stdout",
     "output_type": "stream",
     "text": [
      "Processing image: W08B_4\n"
     ]
    },
    {
     "name": "stderr",
     "output_type": "stream",
     "text": [
      "Processing Images:  20%|██        | 23/113 [09:59<44:11, 29.47s/it]"
     ]
    },
    {
     "name": "stdout",
     "output_type": "stream",
     "text": [
      "Processing image: W08B_9\n"
     ]
    },
    {
     "name": "stderr",
     "output_type": "stream",
     "text": [
      "Processing Images:  21%|██        | 24/113 [10:26<42:29, 28.65s/it]"
     ]
    },
    {
     "name": "stdout",
     "output_type": "stream",
     "text": [
      "Processing image: W12A_17\n"
     ]
    },
    {
     "name": "stderr",
     "output_type": "stream",
     "text": [
      "Processing Images:  22%|██▏       | 25/113 [10:54<41:51, 28.54s/it]"
     ]
    },
    {
     "name": "stdout",
     "output_type": "stream",
     "text": [
      "Processing image: W12A_18\n"
     ]
    },
    {
     "name": "stderr",
     "output_type": "stream",
     "text": [
      "Processing Images:  23%|██▎       | 26/113 [11:22<40:55, 28.23s/it]"
     ]
    },
    {
     "name": "stdout",
     "output_type": "stream",
     "text": [
      "Processing image: W12A_21\n"
     ]
    },
    {
     "name": "stderr",
     "output_type": "stream",
     "text": [
      "Processing Images:  24%|██▍       | 27/113 [11:53<41:32, 28.99s/it]"
     ]
    },
    {
     "name": "stdout",
     "output_type": "stream",
     "text": [
      "Processing image: W12A_22\n"
     ]
    },
    {
     "name": "stderr",
     "output_type": "stream",
     "text": [
      "Processing Images:  25%|██▍       | 28/113 [12:27<43:15, 30.54s/it]"
     ]
    },
    {
     "name": "stdout",
     "output_type": "stream",
     "text": [
      "Processing image: W12A_23\n"
     ]
    },
    {
     "name": "stderr",
     "output_type": "stream",
     "text": [
      "Processing Images:  26%|██▌       | 29/113 [12:51<39:55, 28.52s/it]"
     ]
    },
    {
     "name": "stdout",
     "output_type": "stream",
     "text": [
      "Processing image: W12A_24\n"
     ]
    },
    {
     "name": "stderr",
     "output_type": "stream",
     "text": [
      "Processing Images:  27%|██▋       | 30/113 [13:16<38:06, 27.55s/it]"
     ]
    },
    {
     "name": "stdout",
     "output_type": "stream",
     "text": [
      "Processing image: W12C_11\n"
     ]
    },
    {
     "name": "stderr",
     "output_type": "stream",
     "text": [
      "Processing Images:  27%|██▋       | 31/113 [13:39<36:01, 26.36s/it]"
     ]
    },
    {
     "name": "stdout",
     "output_type": "stream",
     "text": [
      "Processing image: W12C_12\n"
     ]
    },
    {
     "name": "stderr",
     "output_type": "stream",
     "text": [
      "Processing Images:  28%|██▊       | 32/113 [14:03<34:35, 25.63s/it]"
     ]
    },
    {
     "name": "stdout",
     "output_type": "stream",
     "text": [
      "Processing image: W12C_16\n"
     ]
    },
    {
     "name": "stderr",
     "output_type": "stream",
     "text": [
      "Processing Images:  29%|██▉       | 33/113 [14:25<32:29, 24.36s/it]"
     ]
    },
    {
     "name": "stdout",
     "output_type": "stream",
     "text": [
      "Processing image: W12C_17\n"
     ]
    },
    {
     "name": "stderr",
     "output_type": "stream",
     "text": [
      "Processing Images:  30%|███       | 34/113 [14:49<31:50, 24.18s/it]"
     ]
    },
    {
     "name": "stdout",
     "output_type": "stream",
     "text": [
      "Processing image: W12C_3\n"
     ]
    },
    {
     "name": "stderr",
     "output_type": "stream",
     "text": [
      "Processing Images:  31%|███       | 35/113 [15:12<31:08, 23.96s/it]"
     ]
    },
    {
     "name": "stdout",
     "output_type": "stream",
     "text": [
      "Processing image: W12C_4\n"
     ]
    },
    {
     "name": "stderr",
     "output_type": "stream",
     "text": [
      "Processing Images:  32%|███▏      | 36/113 [15:38<31:28, 24.53s/it]"
     ]
    },
    {
     "name": "stdout",
     "output_type": "stream",
     "text": [
      "Processing image: W12C_6\n"
     ]
    },
    {
     "name": "stderr",
     "output_type": "stream",
     "text": [
      "Processing Images:  33%|███▎      | 37/113 [16:02<30:43, 24.25s/it]"
     ]
    },
    {
     "name": "stdout",
     "output_type": "stream",
     "text": [
      "Processing image: W13A_1\n"
     ]
    },
    {
     "name": "stderr",
     "output_type": "stream",
     "text": [
      "Processing Images:  34%|███▎      | 38/113 [16:25<30:01, 24.02s/it]"
     ]
    },
    {
     "name": "stdout",
     "output_type": "stream",
     "text": [
      "Processing image: W13C_11\n"
     ]
    },
    {
     "name": "stderr",
     "output_type": "stream",
     "text": [
      "Processing Images:  35%|███▍      | 39/113 [16:49<29:39, 24.04s/it]"
     ]
    },
    {
     "name": "stdout",
     "output_type": "stream",
     "text": [
      "Processing image: W13C_13\n"
     ]
    },
    {
     "name": "stderr",
     "output_type": "stream",
     "text": [
      "Processing Images:  35%|███▌      | 40/113 [17:13<29:17, 24.08s/it]"
     ]
    },
    {
     "name": "stdout",
     "output_type": "stream",
     "text": [
      "Processing image: W13C_16\n"
     ]
    },
    {
     "name": "stderr",
     "output_type": "stream",
     "text": [
      "Processing Images:  36%|███▋      | 41/113 [17:38<29:13, 24.35s/it]"
     ]
    },
    {
     "name": "stdout",
     "output_type": "stream",
     "text": [
      "Processing image: W13C_17\n"
     ]
    },
    {
     "name": "stderr",
     "output_type": "stream",
     "text": [
      "Processing Images:  37%|███▋      | 42/113 [18:12<32:10, 27.18s/it]"
     ]
    },
    {
     "name": "stdout",
     "output_type": "stream",
     "text": [
      "Processing image: W13C_18\n"
     ]
    },
    {
     "name": "stderr",
     "output_type": "stream",
     "text": [
      "Processing Images:  38%|███▊      | 43/113 [18:36<30:44, 26.35s/it]"
     ]
    },
    {
     "name": "stdout",
     "output_type": "stream",
     "text": [
      "Processing image: W13C_21\n"
     ]
    },
    {
     "name": "stderr",
     "output_type": "stream",
     "text": [
      "Processing Images:  39%|███▉      | 44/113 [19:01<29:34, 25.71s/it]"
     ]
    },
    {
     "name": "stdout",
     "output_type": "stream",
     "text": [
      "Processing image: W13C_22\n"
     ]
    },
    {
     "name": "stderr",
     "output_type": "stream",
     "text": [
      "Processing Images:  40%|███▉      | 45/113 [19:25<28:47, 25.40s/it]"
     ]
    },
    {
     "name": "stdout",
     "output_type": "stream",
     "text": [
      "Processing image: W13C_8\n"
     ]
    },
    {
     "name": "stderr",
     "output_type": "stream",
     "text": [
      "Processing Images:  41%|████      | 46/113 [19:53<29:09, 26.12s/it]"
     ]
    },
    {
     "name": "stdout",
     "output_type": "stream",
     "text": [
      "Processing image: W14A_11\n"
     ]
    },
    {
     "name": "stderr",
     "output_type": "stream",
     "text": [
      "Processing Images:  42%|████▏     | 47/113 [20:19<28:34, 25.98s/it]"
     ]
    },
    {
     "name": "stdout",
     "output_type": "stream",
     "text": [
      "Processing image: W14A_12\n"
     ]
    },
    {
     "name": "stderr",
     "output_type": "stream",
     "text": [
      "Processing Images:  42%|████▏     | 48/113 [20:44<27:50, 25.69s/it]"
     ]
    },
    {
     "name": "stdout",
     "output_type": "stream",
     "text": [
      "Processing image: W14A_16\n"
     ]
    },
    {
     "name": "stderr",
     "output_type": "stream",
     "text": [
      "Processing Images:  43%|████▎     | 49/113 [21:06<26:10, 24.54s/it]"
     ]
    },
    {
     "name": "stdout",
     "output_type": "stream",
     "text": [
      "Processing image: W14A_21\n"
     ]
    },
    {
     "name": "stderr",
     "output_type": "stream",
     "text": [
      "Processing Images:  44%|████▍     | 50/113 [21:29<25:26, 24.23s/it]"
     ]
    },
    {
     "name": "stdout",
     "output_type": "stream",
     "text": [
      "Processing image: W16C_14\n"
     ]
    },
    {
     "name": "stderr",
     "output_type": "stream",
     "text": [
      "Processing Images:  45%|████▌     | 51/113 [21:56<25:50, 25.00s/it]"
     ]
    },
    {
     "name": "stdout",
     "output_type": "stream",
     "text": [
      "Processing image: W16C_15\n"
     ]
    },
    {
     "name": "stderr",
     "output_type": "stream",
     "text": [
      "Processing Images:  46%|████▌     | 52/113 [22:24<26:16, 25.85s/it]"
     ]
    },
    {
     "name": "stdout",
     "output_type": "stream",
     "text": [
      "Processing image: W16C_17\n"
     ]
    },
    {
     "name": "stderr",
     "output_type": "stream",
     "text": [
      "Processing Images:  47%|████▋     | 53/113 [23:06<30:37, 30.63s/it]"
     ]
    },
    {
     "name": "stdout",
     "output_type": "stream",
     "text": [
      "Processing image: W16C_18\n"
     ]
    },
    {
     "name": "stderr",
     "output_type": "stream",
     "text": [
      "Processing Images:  48%|████▊     | 54/113 [23:37<30:23, 30.91s/it]"
     ]
    },
    {
     "name": "stdout",
     "output_type": "stream",
     "text": [
      "Processing image: W16C_19\n"
     ]
    },
    {
     "name": "stderr",
     "output_type": "stream",
     "text": [
      "Processing Images:  49%|████▊     | 55/113 [24:20<33:29, 34.64s/it]"
     ]
    },
    {
     "name": "stdout",
     "output_type": "stream",
     "text": [
      "Processing image: W16C_20\n"
     ]
    },
    {
     "name": "stderr",
     "output_type": "stream",
     "text": [
      "Processing Images:  50%|████▉     | 56/113 [25:08<36:33, 38.48s/it]"
     ]
    },
    {
     "name": "stdout",
     "output_type": "stream",
     "text": [
      "Processing image: W16C_21\n"
     ]
    },
    {
     "name": "stderr",
     "output_type": "stream",
     "text": [
      "Processing Images:  50%|█████     | 57/113 [25:44<35:17, 37.82s/it]"
     ]
    },
    {
     "name": "stdout",
     "output_type": "stream",
     "text": [
      "Processing image: W16C_22\n"
     ]
    },
    {
     "name": "stderr",
     "output_type": "stream",
     "text": [
      "Processing Images:  51%|█████▏    | 58/113 [26:12<31:46, 34.67s/it]"
     ]
    },
    {
     "name": "stdout",
     "output_type": "stream",
     "text": [
      "Processing image: W16D_11\n"
     ]
    },
    {
     "name": "stderr",
     "output_type": "stream",
     "text": [
      "Processing Images:  52%|█████▏    | 59/113 [26:37<28:49, 32.03s/it]"
     ]
    },
    {
     "name": "stdout",
     "output_type": "stream",
     "text": [
      "Processing image: W16D_12\n"
     ]
    },
    {
     "name": "stderr",
     "output_type": "stream",
     "text": [
      "Processing Images:  53%|█████▎    | 60/113 [27:02<26:13, 29.69s/it]"
     ]
    },
    {
     "name": "stdout",
     "output_type": "stream",
     "text": [
      "Processing image: W16D_16\n"
     ]
    },
    {
     "name": "stderr",
     "output_type": "stream",
     "text": [
      "Processing Images:  54%|█████▍    | 61/113 [27:29<25:01, 28.88s/it]"
     ]
    },
    {
     "name": "stdout",
     "output_type": "stream",
     "text": [
      "Processing image: W16D_17\n"
     ]
    },
    {
     "name": "stderr",
     "output_type": "stream",
     "text": [
      "Processing Images:  55%|█████▍    | 62/113 [27:32<17:55, 21.10s/it]"
     ]
    },
    {
     "name": "stdout",
     "output_type": "stream",
     "text": [
      "Processing image: W16D_21\n"
     ]
    },
    {
     "name": "stderr",
     "output_type": "stream",
     "text": [
      "Processing Images:  56%|█████▌    | 63/113 [28:06<20:51, 25.02s/it]"
     ]
    },
    {
     "name": "stdout",
     "output_type": "stream",
     "text": [
      "Processing image: W16D_22\n"
     ]
    },
    {
     "name": "stderr",
     "output_type": "stream",
     "text": [
      "Processing Images:  57%|█████▋    | 64/113 [28:45<23:56, 29.32s/it]"
     ]
    },
    {
     "name": "stdout",
     "output_type": "stream",
     "text": [
      "Processing image: W16D_23\n"
     ]
    },
    {
     "name": "stderr",
     "output_type": "stream",
     "text": [
      "Processing Images:  58%|█████▊    | 65/113 [29:11<22:44, 28.44s/it]"
     ]
    },
    {
     "name": "stdout",
     "output_type": "stream",
     "text": [
      "Processing image: W16D_24\n"
     ]
    },
    {
     "name": "stderr",
     "output_type": "stream",
     "text": [
      "Processing Images:  58%|█████▊    | 66/113 [29:37<21:39, 27.65s/it]"
     ]
    },
    {
     "name": "stdout",
     "output_type": "stream",
     "text": [
      "Processing image: W16D_25\n"
     ]
    },
    {
     "name": "stderr",
     "output_type": "stream",
     "text": [
      "Processing Images:  59%|█████▉    | 67/113 [30:04<21:02, 27.45s/it]"
     ]
    },
    {
     "name": "stdout",
     "output_type": "stream",
     "text": [
      "Processing image: W16D_7\n"
     ]
    },
    {
     "name": "stderr",
     "output_type": "stream",
     "text": [
      "Processing Images:  60%|██████    | 68/113 [30:30<20:10, 26.90s/it]"
     ]
    },
    {
     "name": "stdout",
     "output_type": "stream",
     "text": [
      "Processing image: W18B_5\n"
     ]
    },
    {
     "name": "stderr",
     "output_type": "stream",
     "text": [
      "Processing Images:  61%|██████    | 69/113 [30:43<16:42, 22.79s/it]"
     ]
    },
    {
     "name": "stdout",
     "output_type": "stream",
     "text": [
      "Processing image: W18B_8\n"
     ]
    },
    {
     "name": "stderr",
     "output_type": "stream",
     "text": [
      "Processing Images:  62%|██████▏   | 70/113 [30:53<13:38, 19.04s/it]"
     ]
    },
    {
     "name": "stdout",
     "output_type": "stream",
     "text": [
      "Processing image: W18B_9\n"
     ]
    },
    {
     "name": "stderr",
     "output_type": "stream",
     "text": [
      "Processing Images:  63%|██████▎   | 71/113 [31:08<12:23, 17.71s/it]"
     ]
    },
    {
     "name": "stdout",
     "output_type": "stream",
     "text": [
      "Processing image: W33A_10\n"
     ]
    },
    {
     "name": "stderr",
     "output_type": "stream",
     "text": [
      "Processing Images:  64%|██████▎   | 72/113 [31:33<13:31, 19.80s/it]"
     ]
    },
    {
     "name": "stdout",
     "output_type": "stream",
     "text": [
      "Processing image: W33A_18\n"
     ]
    },
    {
     "name": "stderr",
     "output_type": "stream",
     "text": [
      "Processing Images:  65%|██████▍   | 73/113 [31:55<13:47, 20.68s/it]"
     ]
    },
    {
     "name": "stdout",
     "output_type": "stream",
     "text": [
      "Processing image: W33A_9\n"
     ]
    },
    {
     "name": "stderr",
     "output_type": "stream",
     "text": [
      "Processing Images:  65%|██████▌   | 74/113 [32:19<13:55, 21.42s/it]"
     ]
    },
    {
     "name": "stdout",
     "output_type": "stream",
     "text": [
      "Processing image: W33B_16\n"
     ]
    },
    {
     "name": "stderr",
     "output_type": "stream",
     "text": [
      "Processing Images:  66%|██████▋   | 75/113 [32:41<13:49, 21.84s/it]"
     ]
    },
    {
     "name": "stdout",
     "output_type": "stream",
     "text": [
      "Processing image: W33B_19\n"
     ]
    },
    {
     "name": "stderr",
     "output_type": "stream",
     "text": [
      "Processing Images:  67%|██████▋   | 76/113 [33:01<13:09, 21.33s/it]"
     ]
    },
    {
     "name": "stdout",
     "output_type": "stream",
     "text": [
      "Processing image: W33B_2\n"
     ]
    },
    {
     "name": "stderr",
     "output_type": "stream",
     "text": [
      "Processing Images:  68%|██████▊   | 77/113 [33:23<12:49, 21.37s/it]"
     ]
    },
    {
     "name": "stdout",
     "output_type": "stream",
     "text": [
      "Processing image: W33C_7\n"
     ]
    },
    {
     "name": "stderr",
     "output_type": "stream",
     "text": [
      "Processing Images:  69%|██████▉   | 78/113 [33:24<08:59, 15.42s/it]"
     ]
    },
    {
     "name": "stdout",
     "output_type": "stream",
     "text": [
      "Processing image: W48C_11\n"
     ]
    },
    {
     "name": "stderr",
     "output_type": "stream",
     "text": [
      "Processing Images:  70%|██████▉   | 79/113 [33:48<10:03, 17.75s/it]"
     ]
    },
    {
     "name": "stdout",
     "output_type": "stream",
     "text": [
      "Processing image: W48C_16\n"
     ]
    },
    {
     "name": "stderr",
     "output_type": "stream",
     "text": [
      "Processing Images:  71%|███████   | 80/113 [34:10<10:34, 19.23s/it]"
     ]
    },
    {
     "name": "stdout",
     "output_type": "stream",
     "text": [
      "Processing image: W48C_22\n"
     ]
    },
    {
     "name": "stderr",
     "output_type": "stream",
     "text": [
      "Processing Images:  72%|███████▏  | 81/113 [34:28<09:59, 18.75s/it]"
     ]
    },
    {
     "name": "stdout",
     "output_type": "stream",
     "text": [
      "Processing image: W48C_6\n"
     ]
    },
    {
     "name": "stderr",
     "output_type": "stream",
     "text": [
      "Processing Images:  73%|███████▎  | 82/113 [34:36<08:02, 15.55s/it]"
     ]
    },
    {
     "name": "stdout",
     "output_type": "stream",
     "text": [
      "Processing image: W49A_11\n"
     ]
    },
    {
     "name": "stderr",
     "output_type": "stream",
     "text": [
      "Processing Images:  73%|███████▎  | 83/113 [34:59<08:49, 17.64s/it]"
     ]
    },
    {
     "name": "stdout",
     "output_type": "stream",
     "text": [
      "Processing image: W49A_16\n"
     ]
    },
    {
     "name": "stderr",
     "output_type": "stream",
     "text": [
      "Processing Images:  74%|███████▍  | 84/113 [35:23<09:28, 19.59s/it]"
     ]
    },
    {
     "name": "stdout",
     "output_type": "stream",
     "text": [
      "Processing image: W49A_2\n"
     ]
    },
    {
     "name": "stderr",
     "output_type": "stream",
     "text": [
      "Processing Images:  75%|███████▌  | 85/113 [35:43<09:11, 19.70s/it]"
     ]
    },
    {
     "name": "stdout",
     "output_type": "stream",
     "text": [
      "Processing image: W50D_25\n"
     ]
    },
    {
     "name": "stderr",
     "output_type": "stream",
     "text": [
      "Processing Images:  76%|███████▌  | 86/113 [36:09<09:44, 21.66s/it]"
     ]
    },
    {
     "name": "stdout",
     "output_type": "stream",
     "text": [
      "Processing image: W50D_4\n"
     ]
    },
    {
     "name": "stderr",
     "output_type": "stream",
     "text": [
      "Processing Images:  77%|███████▋  | 87/113 [36:32<09:35, 22.14s/it]"
     ]
    },
    {
     "name": "stdout",
     "output_type": "stream",
     "text": [
      "Processing image: W50D_5\n"
     ]
    },
    {
     "name": "stderr",
     "output_type": "stream",
     "text": [
      "Processing Images:  78%|███████▊  | 88/113 [36:55<09:20, 22.44s/it]"
     ]
    },
    {
     "name": "stdout",
     "output_type": "stream",
     "text": [
      "Processing image: W57A_17\n"
     ]
    },
    {
     "name": "stderr",
     "output_type": "stream",
     "text": [
      "Processing Images:  79%|███████▉  | 89/113 [37:21<09:23, 23.50s/it]"
     ]
    },
    {
     "name": "stdout",
     "output_type": "stream",
     "text": [
      "Processing image: W57A_18\n"
     ]
    },
    {
     "name": "stderr",
     "output_type": "stream",
     "text": [
      "Processing Images:  80%|███████▉  | 90/113 [37:51<09:42, 25.33s/it]"
     ]
    },
    {
     "name": "stdout",
     "output_type": "stream",
     "text": [
      "Processing image: W57A_19\n"
     ]
    },
    {
     "name": "stderr",
     "output_type": "stream",
     "text": [
      "Processing Images:  81%|████████  | 91/113 [38:16<09:13, 25.18s/it]"
     ]
    },
    {
     "name": "stdout",
     "output_type": "stream",
     "text": [
      "Processing image: W57A_21\n"
     ]
    },
    {
     "name": "stderr",
     "output_type": "stream",
     "text": [
      "Processing Images:  81%|████████▏ | 92/113 [38:42<08:53, 25.39s/it]"
     ]
    },
    {
     "name": "stdout",
     "output_type": "stream",
     "text": [
      "Processing image: W57A_22\n"
     ]
    },
    {
     "name": "stderr",
     "output_type": "stream",
     "text": [
      "Processing Images:  82%|████████▏ | 93/113 [39:17<09:30, 28.51s/it]"
     ]
    },
    {
     "name": "stdout",
     "output_type": "stream",
     "text": [
      "Processing image: W57A_23\n"
     ]
    },
    {
     "name": "stderr",
     "output_type": "stream",
     "text": [
      "Processing Images:  83%|████████▎ | 94/113 [39:49<09:18, 29.41s/it]"
     ]
    },
    {
     "name": "stdout",
     "output_type": "stream",
     "text": [
      "Processing image: W57A_24\n"
     ]
    },
    {
     "name": "stderr",
     "output_type": "stream",
     "text": [
      "Processing Images:  84%|████████▍ | 95/113 [40:28<09:42, 32.38s/it]"
     ]
    },
    {
     "name": "stdout",
     "output_type": "stream",
     "text": [
      "Processing image: W57A_25\n"
     ]
    },
    {
     "name": "stderr",
     "output_type": "stream",
     "text": [
      "Processing Images:  85%|████████▍ | 96/113 [40:53<08:29, 29.97s/it]"
     ]
    },
    {
     "name": "stdout",
     "output_type": "stream",
     "text": [
      "Processing image: W57B_10\n"
     ]
    },
    {
     "name": "stderr",
     "output_type": "stream",
     "text": [
      "Processing Images:  86%|████████▌ | 97/113 [41:46<09:53, 37.11s/it]"
     ]
    },
    {
     "name": "stdout",
     "output_type": "stream",
     "text": [
      "Processing image: W57B_11\n"
     ]
    },
    {
     "name": "stderr",
     "output_type": "stream",
     "text": [
      "Processing Images:  87%|████████▋ | 98/113 [42:11<08:19, 33.31s/it]"
     ]
    },
    {
     "name": "stdout",
     "output_type": "stream",
     "text": [
      "Processing image: W57B_12\n"
     ]
    },
    {
     "name": "stderr",
     "output_type": "stream",
     "text": [
      "Processing Images:  88%|████████▊ | 99/113 [42:37<07:18, 31.34s/it]"
     ]
    },
    {
     "name": "stdout",
     "output_type": "stream",
     "text": [
      "Processing image: W57B_13\n"
     ]
    },
    {
     "name": "stderr",
     "output_type": "stream",
     "text": [
      "Processing Images:  88%|████████▊ | 100/113 [43:02<06:21, 29.37s/it]"
     ]
    },
    {
     "name": "stdout",
     "output_type": "stream",
     "text": [
      "Processing image: W57B_14\n"
     ]
    },
    {
     "name": "stderr",
     "output_type": "stream",
     "text": [
      "Processing Images:  89%|████████▉ | 101/113 [43:26<05:31, 27.66s/it]"
     ]
    },
    {
     "name": "stdout",
     "output_type": "stream",
     "text": [
      "Processing image: W57B_18\n"
     ]
    },
    {
     "name": "stderr",
     "output_type": "stream",
     "text": [
      "Processing Images:  90%|█████████ | 102/113 [43:55<05:09, 28.11s/it]"
     ]
    },
    {
     "name": "stdout",
     "output_type": "stream",
     "text": [
      "Processing image: W57B_19\n"
     ]
    },
    {
     "name": "stderr",
     "output_type": "stream",
     "text": [
      "Processing Images:  91%|█████████ | 103/113 [44:31<05:05, 30.53s/it]"
     ]
    },
    {
     "name": "stdout",
     "output_type": "stream",
     "text": [
      "Processing image: W57B_2\n"
     ]
    },
    {
     "name": "stderr",
     "output_type": "stream",
     "text": [
      "Processing Images:  92%|█████████▏| 104/113 [44:56<04:18, 28.74s/it]"
     ]
    },
    {
     "name": "stdout",
     "output_type": "stream",
     "text": [
      "Processing image: W57B_20\n"
     ]
    },
    {
     "name": "stderr",
     "output_type": "stream",
     "text": [
      "Processing Images:  93%|█████████▎| 105/113 [45:30<04:04, 30.50s/it]"
     ]
    },
    {
     "name": "stdout",
     "output_type": "stream",
     "text": [
      "Processing image: W57B_3\n"
     ]
    },
    {
     "name": "stderr",
     "output_type": "stream",
     "text": [
      "Processing Images:  94%|█████████▍| 106/113 [46:05<03:41, 31.60s/it]"
     ]
    },
    {
     "name": "stdout",
     "output_type": "stream",
     "text": [
      "Processing image: W57B_4\n"
     ]
    },
    {
     "name": "stderr",
     "output_type": "stream",
     "text": [
      "Processing Images:  95%|█████████▍| 107/113 [46:58<03:48, 38.04s/it]"
     ]
    },
    {
     "name": "stdout",
     "output_type": "stream",
     "text": [
      "Processing image: W57B_5\n"
     ]
    },
    {
     "name": "stderr",
     "output_type": "stream",
     "text": [
      "Processing Images:  96%|█████████▌| 108/113 [47:20<02:45, 33.19s/it]"
     ]
    },
    {
     "name": "stdout",
     "output_type": "stream",
     "text": [
      "Processing image: W57B_6\n"
     ]
    },
    {
     "name": "stderr",
     "output_type": "stream",
     "text": [
      "Processing Images:  96%|█████████▋| 109/113 [47:52<02:11, 32.86s/it]"
     ]
    },
    {
     "name": "stdout",
     "output_type": "stream",
     "text": [
      "Processing image: W57B_7\n"
     ]
    },
    {
     "name": "stderr",
     "output_type": "stream",
     "text": [
      "Processing Images:  97%|█████████▋| 110/113 [48:27<01:41, 33.74s/it]"
     ]
    },
    {
     "name": "stdout",
     "output_type": "stream",
     "text": [
      "Processing image: W57B_8\n"
     ]
    },
    {
     "name": "stderr",
     "output_type": "stream",
     "text": [
      "Processing Images:  98%|█████████▊| 111/113 [49:05<01:09, 34.78s/it]"
     ]
    },
    {
     "name": "stdout",
     "output_type": "stream",
     "text": [
      "Processing image: W57B_9\n"
     ]
    },
    {
     "name": "stderr",
     "output_type": "stream",
     "text": [
      "Processing Images:  99%|█████████▉| 112/113 [49:31<00:32, 32.21s/it]"
     ]
    },
    {
     "name": "stdout",
     "output_type": "stream",
     "text": [
      "Processing image: W57C_9\n"
     ]
    },
    {
     "name": "stderr",
     "output_type": "stream",
     "text": [
      "Processing Images: 100%|██████████| 113/113 [50:06<00:00, 26.60s/it]\n"
     ]
    }
   ],
   "source": [
    "annotations = annotations[annotations['image_name'].notnull()]\n",
    "\n",
    "def calculate_pixel_metrics_grouped(group, image_base_path):\n",
    "    metrics = []\n",
    "    for _, row in group.iterrows():\n",
    "        geotiff_path = image_base_path + row['image_name'] + \".tif\"\n",
    "        try:\n",
    "            with rasterio.open(geotiff_path) as src:\n",
    "                transform = src.transform\n",
    "                metric = calculate_pixel_metrics_dynamic(row, transform)\n",
    "                metrics.append(metric)\n",
    "        except FileNotFoundError:\n",
    "            print(f\"GeoTIFF not found: {geotiff_path}\")\n",
    "            metrics.append(None)\n",
    "    \n",
    "    return pd.DataFrame(metrics, index=group.index)\n",
    "\n",
    "def calculate_pixel_metrics_dynamic(row, transform):\n",
    "    polygon = shape(row['geometry'])\n",
    "    centroid = polygon.centroid\n",
    "\n",
    "    centroid_pixel_row, centroid_pixel_col = rowcol(transform, centroid.x, centroid.y)\n",
    "\n",
    "    pixel_vertices = [\n",
    "        rowcol(transform, vertex[0], vertex[1]) for vertex in polygon.exterior.coords\n",
    "    ]\n",
    "\n",
    "    pixel_polygon = shape({\n",
    "        'type': 'Polygon',\n",
    "        'coordinates': [[(c, r) for r, c in pixel_vertices]]\n",
    "    })\n",
    "    pixel_area = pixel_polygon.area\n",
    "\n",
    "    return {\n",
    "        'polygon_vertices_pixels': pixel_vertices,\n",
    "        'centroid_latitude_pixels': centroid_pixel_row,\n",
    "        'centroid_longitude_pixels': centroid_pixel_col,\n",
    "        'area_pixels': pixel_area\n",
    "    }\n",
    "\n",
    "# Group the annotations by image_name\n",
    "grouped_annotations = annotations.groupby('image_name')\n",
    "\n",
    "\n",
    "image_base_path = r\"C:\\Users\\AICHA\\Box\\Cape Town Energy Transitions Bass Connections\\Class Materials 2024-2025\\Aerial Imagery\\AP2023_TIFFs_Bass\\2023_RGB_8cm_\"\n",
    "pixel_metrics_list = []\n",
    "\n",
    "for name, group in tqdm(grouped_annotations, desc=\"Processing Images\"):\n",
    "    print(f\"Processing image: {name}\")\n",
    "    metrics = calculate_pixel_metrics_grouped(group, image_base_path)\n",
    "    pixel_metrics_list.append(metrics)\n",
    "\n",
    "# Concatenate all metrics into a single DataFrame\n",
    "pixel_metrics_df = pd.concat(pixel_metrics_list)\n",
    "\n",
    "# Assign each metric to its respective column in the annotations DataFrame\n",
    "annotations = annotations.join(pixel_metrics_df)"
   ]
  },
  {
   "cell_type": "code",
   "execution_count": null,
   "metadata": {},
   "outputs": [],
   "source": [
    "# annotations.columns = ['id', 'annotator', 'area', 'centroid_latitude', 'centroid_longitude',\n",
    "#        'image_name', 'nw_corner_of_image_latitude',\n",
    "#        'nw_corner_of_image_longitude', 'se_corner_of_image_latitude',\n",
    "#        'se_corner_of_image_longitude', 'polygon_vertices_pixels',\n",
    "#        'centroid_latitude_pixels', 'centroid_longitude_pixels', 'area_pixels',\n",
    "#        'geometry']\n",
    "\n",
    "# annotations.to_file(r\"C:\\Users\\AICHA\\Box\\Cape Town Energy Transitions Bass Connections\\Class Materials 2024-2025\\Teams\\Team 1 Machine learning\\CT - MachineLearning\\S1 Machine Learning\\annotations_final.geojson\")"
   ]
  },
  {
   "cell_type": "code",
   "execution_count": null,
   "metadata": {},
   "outputs": [
    {
     "data": {
      "text/html": [
       "<div>\n",
       "<style scoped>\n",
       "    .dataframe tbody tr th:only-of-type {\n",
       "        vertical-align: middle;\n",
       "    }\n",
       "\n",
       "    .dataframe tbody tr th {\n",
       "        vertical-align: top;\n",
       "    }\n",
       "\n",
       "    .dataframe thead th {\n",
       "        text-align: right;\n",
       "    }\n",
       "</style>\n",
       "<table border=\"1\" class=\"dataframe\">\n",
       "  <thead>\n",
       "    <tr style=\"text-align: right;\">\n",
       "      <th></th>\n",
       "      <th>id</th>\n",
       "      <th>annotator</th>\n",
       "      <th>area</th>\n",
       "      <th>centroid_latitude</th>\n",
       "      <th>centroid_longitude</th>\n",
       "      <th>image_name</th>\n",
       "      <th>nw_corner_of_image_latitude</th>\n",
       "      <th>nw_corner_of_image_longitude</th>\n",
       "      <th>se_corner_of_image_latitude</th>\n",
       "      <th>se_corner_of_image_longitude</th>\n",
       "      <th>polygon_vertices_pixels</th>\n",
       "      <th>centroid_latitude_pixels</th>\n",
       "      <th>centroid_longitude_pixels</th>\n",
       "      <th>area_pixels</th>\n",
       "      <th>geometry</th>\n",
       "    </tr>\n",
       "  </thead>\n",
       "  <tbody>\n",
       "    <tr>\n",
       "      <th>0</th>\n",
       "      <td>7</td>\n",
       "      <td>fiona</td>\n",
       "      <td>19.432886</td>\n",
       "      <td>-3.776356e+06</td>\n",
       "      <td>-5578.396188</td>\n",
       "      <td>W07C_10</td>\n",
       "      <td>-3776000.0</td>\n",
       "      <td>-6000.0</td>\n",
       "      <td>-3777000.0</td>\n",
       "      <td>-5000.0</td>\n",
       "      <td>[(np.int32(4492), np.int32(5226)), (np.int32(4...</td>\n",
       "      <td>4444</td>\n",
       "      <td>5270</td>\n",
       "      <td>2995.5</td>\n",
       "      <td>POLYGON ((-5581.91047 -3776359.36031, -5576.61...</td>\n",
       "    </tr>\n",
       "    <tr>\n",
       "      <th>1</th>\n",
       "      <td>8</td>\n",
       "      <td>fiona</td>\n",
       "      <td>19.257815</td>\n",
       "      <td>-3.776357e+06</td>\n",
       "      <td>-5575.799560</td>\n",
       "      <td>W07C_10</td>\n",
       "      <td>-3776000.0</td>\n",
       "      <td>-6000.0</td>\n",
       "      <td>-3777000.0</td>\n",
       "      <td>-5000.0</td>\n",
       "      <td>[(np.int32(4405), np.int32(5323)), (np.int32(4...</td>\n",
       "      <td>4464</td>\n",
       "      <td>5302</td>\n",
       "      <td>2982.0</td>\n",
       "      <td>POLYGON ((-5574.12577 -3776352.40598, -5572.41...</td>\n",
       "    </tr>\n",
       "    <tr>\n",
       "      <th>2</th>\n",
       "      <td>9</td>\n",
       "      <td>fiona</td>\n",
       "      <td>18.028277</td>\n",
       "      <td>-3.776358e+06</td>\n",
       "      <td>-5573.512491</td>\n",
       "      <td>W07C_10</td>\n",
       "      <td>-3776000.0</td>\n",
       "      <td>-6000.0</td>\n",
       "      <td>-3777000.0</td>\n",
       "      <td>-5000.0</td>\n",
       "      <td>[(np.int32(4421), np.int32(5353)), (np.int32(4...</td>\n",
       "      <td>4480</td>\n",
       "      <td>5331</td>\n",
       "      <td>2866.0</td>\n",
       "      <td>POLYGON ((-5571.68657 -3776353.75533, -5570.12...</td>\n",
       "    </tr>\n",
       "    <tr>\n",
       "      <th>3</th>\n",
       "      <td>10</td>\n",
       "      <td>fiona</td>\n",
       "      <td>11.137212</td>\n",
       "      <td>-3.776075e+06</td>\n",
       "      <td>-5752.630109</td>\n",
       "      <td>W07C_10</td>\n",
       "      <td>-3776000.0</td>\n",
       "      <td>-6000.0</td>\n",
       "      <td>-3777000.0</td>\n",
       "      <td>-5000.0</td>\n",
       "      <td>[(np.int32(926), np.int32(3054)), (np.int32(92...</td>\n",
       "      <td>938</td>\n",
       "      <td>3092</td>\n",
       "      <td>1698.5</td>\n",
       "      <td>POLYGON ((-5755.66492 -3776074.129, -5749.6447...</td>\n",
       "    </tr>\n",
       "    <tr>\n",
       "      <th>4</th>\n",
       "      <td>11</td>\n",
       "      <td>fiona</td>\n",
       "      <td>32.433931</td>\n",
       "      <td>-3.776077e+06</td>\n",
       "      <td>-5746.771046</td>\n",
       "      <td>W07C_10</td>\n",
       "      <td>-3776000.0</td>\n",
       "      <td>-6000.0</td>\n",
       "      <td>-3777000.0</td>\n",
       "      <td>-5000.0</td>\n",
       "      <td>[(np.int32(951), np.int32(3054)), (np.int32(95...</td>\n",
       "      <td>962</td>\n",
       "      <td>3165</td>\n",
       "      <td>5029.5</td>\n",
       "      <td>POLYGON ((-5755.61302 -3776076.10112, -5737.81...</td>\n",
       "    </tr>\n",
       "    <tr>\n",
       "      <th>...</th>\n",
       "      <td>...</td>\n",
       "      <td>...</td>\n",
       "      <td>...</td>\n",
       "      <td>...</td>\n",
       "      <td>...</td>\n",
       "      <td>...</td>\n",
       "      <td>...</td>\n",
       "      <td>...</td>\n",
       "      <td>...</td>\n",
       "      <td>...</td>\n",
       "      <td>...</td>\n",
       "      <td>...</td>\n",
       "      <td>...</td>\n",
       "      <td>...</td>\n",
       "      <td>...</td>\n",
       "    </tr>\n",
       "    <tr>\n",
       "      <th>7704</th>\n",
       "      <td>16194</td>\n",
       "      <td>biz</td>\n",
       "      <td>3.208093</td>\n",
       "      <td>-3.769770e+06</td>\n",
       "      <td>-18127.213491</td>\n",
       "      <td>W16C_22</td>\n",
       "      <td>-3769000.0</td>\n",
       "      <td>-19000.0</td>\n",
       "      <td>-3770000.0</td>\n",
       "      <td>-18000.0</td>\n",
       "      <td>[(np.int32(9614), np.int32(10894)), (np.int32(...</td>\n",
       "      <td>9620</td>\n",
       "      <td>10909</td>\n",
       "      <td>489.5</td>\n",
       "      <td>POLYGON ((-18128.46558 -3769769.19484, -18127....</td>\n",
       "    </tr>\n",
       "    <tr>\n",
       "      <th>7705</th>\n",
       "      <td>16195</td>\n",
       "      <td>biz</td>\n",
       "      <td>3.105449</td>\n",
       "      <td>-3.769768e+06</td>\n",
       "      <td>-18125.832320</td>\n",
       "      <td>W16C_22</td>\n",
       "      <td>-3769000.0</td>\n",
       "      <td>-19000.0</td>\n",
       "      <td>-3770000.0</td>\n",
       "      <td>-18000.0</td>\n",
       "      <td>[(np.int32(9599), np.int32(10911)), (np.int32(...</td>\n",
       "      <td>9604</td>\n",
       "      <td>10927</td>\n",
       "      <td>489.5</td>\n",
       "      <td>POLYGON ((-18127.10326 -3769767.94929, -18126....</td>\n",
       "    </tr>\n",
       "    <tr>\n",
       "      <th>7706</th>\n",
       "      <td>16196</td>\n",
       "      <td>biz</td>\n",
       "      <td>3.100336</td>\n",
       "      <td>-3.769766e+06</td>\n",
       "      <td>-18122.758878</td>\n",
       "      <td>W16C_22</td>\n",
       "      <td>-3769000.0</td>\n",
       "      <td>-19000.0</td>\n",
       "      <td>-3770000.0</td>\n",
       "      <td>-18000.0</td>\n",
       "      <td>[(np.int32(9563), np.int32(10949)), (np.int32(...</td>\n",
       "      <td>9569</td>\n",
       "      <td>10965</td>\n",
       "      <td>498.0</td>\n",
       "      <td>POLYGON ((-18124.00884 -3769765.08841, -18123....</td>\n",
       "    </tr>\n",
       "    <tr>\n",
       "      <th>7707</th>\n",
       "      <td>16197</td>\n",
       "      <td>biz</td>\n",
       "      <td>3.274565</td>\n",
       "      <td>-3.769764e+06</td>\n",
       "      <td>-18121.248834</td>\n",
       "      <td>W16C_22</td>\n",
       "      <td>-3769000.0</td>\n",
       "      <td>-19000.0</td>\n",
       "      <td>-3770000.0</td>\n",
       "      <td>-18000.0</td>\n",
       "      <td>[(np.int32(9546), np.int32(10968)), (np.int32(...</td>\n",
       "      <td>9552</td>\n",
       "      <td>10984</td>\n",
       "      <td>501.0</td>\n",
       "      <td>POLYGON ((-18122.54921 -3769763.68717, -18121....</td>\n",
       "    </tr>\n",
       "    <tr>\n",
       "      <th>7708</th>\n",
       "      <td>16198</td>\n",
       "      <td>biz</td>\n",
       "      <td>4.034546</td>\n",
       "      <td>-3.769756e+06</td>\n",
       "      <td>-18112.774829</td>\n",
       "      <td>W16C_22</td>\n",
       "      <td>-3769000.0</td>\n",
       "      <td>-19000.0</td>\n",
       "      <td>-3770000.0</td>\n",
       "      <td>-18000.0</td>\n",
       "      <td>[(np.int32(9444), np.int32(11072)), (np.int32(...</td>\n",
       "      <td>9448</td>\n",
       "      <td>11090</td>\n",
       "      <td>632.5</td>\n",
       "      <td>POLYGON ((-18114.21958 -3769755.55216, -18113....</td>\n",
       "    </tr>\n",
       "  </tbody>\n",
       "</table>\n",
       "<p>7709 rows × 15 columns</p>\n",
       "</div>"
      ],
      "text/plain": [
       "         id annotator       area  centroid_latitude  centroid_longitude  \\\n",
       "0         7     fiona  19.432886      -3.776356e+06        -5578.396188   \n",
       "1         8     fiona  19.257815      -3.776357e+06        -5575.799560   \n",
       "2         9     fiona  18.028277      -3.776358e+06        -5573.512491   \n",
       "3        10     fiona  11.137212      -3.776075e+06        -5752.630109   \n",
       "4        11     fiona  32.433931      -3.776077e+06        -5746.771046   \n",
       "...     ...       ...        ...                ...                 ...   \n",
       "7704  16194       biz   3.208093      -3.769770e+06       -18127.213491   \n",
       "7705  16195       biz   3.105449      -3.769768e+06       -18125.832320   \n",
       "7706  16196       biz   3.100336      -3.769766e+06       -18122.758878   \n",
       "7707  16197       biz   3.274565      -3.769764e+06       -18121.248834   \n",
       "7708  16198       biz   4.034546      -3.769756e+06       -18112.774829   \n",
       "\n",
       "     image_name nw_corner_of_image_latitude nw_corner_of_image_longitude  \\\n",
       "0       W07C_10                  -3776000.0                      -6000.0   \n",
       "1       W07C_10                  -3776000.0                      -6000.0   \n",
       "2       W07C_10                  -3776000.0                      -6000.0   \n",
       "3       W07C_10                  -3776000.0                      -6000.0   \n",
       "4       W07C_10                  -3776000.0                      -6000.0   \n",
       "...         ...                         ...                          ...   \n",
       "7704    W16C_22                  -3769000.0                     -19000.0   \n",
       "7705    W16C_22                  -3769000.0                     -19000.0   \n",
       "7706    W16C_22                  -3769000.0                     -19000.0   \n",
       "7707    W16C_22                  -3769000.0                     -19000.0   \n",
       "7708    W16C_22                  -3769000.0                     -19000.0   \n",
       "\n",
       "     se_corner_of_image_latitude se_corner_of_image_longitude  \\\n",
       "0                     -3777000.0                      -5000.0   \n",
       "1                     -3777000.0                      -5000.0   \n",
       "2                     -3777000.0                      -5000.0   \n",
       "3                     -3777000.0                      -5000.0   \n",
       "4                     -3777000.0                      -5000.0   \n",
       "...                          ...                          ...   \n",
       "7704                  -3770000.0                     -18000.0   \n",
       "7705                  -3770000.0                     -18000.0   \n",
       "7706                  -3770000.0                     -18000.0   \n",
       "7707                  -3770000.0                     -18000.0   \n",
       "7708                  -3770000.0                     -18000.0   \n",
       "\n",
       "                                polygon_vertices_pixels  \\\n",
       "0     [(np.int32(4492), np.int32(5226)), (np.int32(4...   \n",
       "1     [(np.int32(4405), np.int32(5323)), (np.int32(4...   \n",
       "2     [(np.int32(4421), np.int32(5353)), (np.int32(4...   \n",
       "3     [(np.int32(926), np.int32(3054)), (np.int32(92...   \n",
       "4     [(np.int32(951), np.int32(3054)), (np.int32(95...   \n",
       "...                                                 ...   \n",
       "7704  [(np.int32(9614), np.int32(10894)), (np.int32(...   \n",
       "7705  [(np.int32(9599), np.int32(10911)), (np.int32(...   \n",
       "7706  [(np.int32(9563), np.int32(10949)), (np.int32(...   \n",
       "7707  [(np.int32(9546), np.int32(10968)), (np.int32(...   \n",
       "7708  [(np.int32(9444), np.int32(11072)), (np.int32(...   \n",
       "\n",
       "      centroid_latitude_pixels  centroid_longitude_pixels  area_pixels  \\\n",
       "0                         4444                       5270       2995.5   \n",
       "1                         4464                       5302       2982.0   \n",
       "2                         4480                       5331       2866.0   \n",
       "3                          938                       3092       1698.5   \n",
       "4                          962                       3165       5029.5   \n",
       "...                        ...                        ...          ...   \n",
       "7704                      9620                      10909        489.5   \n",
       "7705                      9604                      10927        489.5   \n",
       "7706                      9569                      10965        498.0   \n",
       "7707                      9552                      10984        501.0   \n",
       "7708                      9448                      11090        632.5   \n",
       "\n",
       "                                               geometry  \n",
       "0     POLYGON ((-5581.91047 -3776359.36031, -5576.61...  \n",
       "1     POLYGON ((-5574.12577 -3776352.40598, -5572.41...  \n",
       "2     POLYGON ((-5571.68657 -3776353.75533, -5570.12...  \n",
       "3     POLYGON ((-5755.66492 -3776074.129, -5749.6447...  \n",
       "4     POLYGON ((-5755.61302 -3776076.10112, -5737.81...  \n",
       "...                                                 ...  \n",
       "7704  POLYGON ((-18128.46558 -3769769.19484, -18127....  \n",
       "7705  POLYGON ((-18127.10326 -3769767.94929, -18126....  \n",
       "7706  POLYGON ((-18124.00884 -3769765.08841, -18123....  \n",
       "7707  POLYGON ((-18122.54921 -3769763.68717, -18121....  \n",
       "7708  POLYGON ((-18114.21958 -3769755.55216, -18113....  \n",
       "\n",
       "[7709 rows x 15 columns]"
      ]
     },
     "execution_count": 95,
     "metadata": {},
     "output_type": "execute_result"
    }
   ],
   "source": [
    "annotations = gpd.read_file(r\"C:\\Users\\AICHA\\Box\\Cape Town Energy Transitions Bass Connections\\Class Materials 2024-2025\\Teams\\Team 1 Machine learning\\CT - MachineLearning\\S1 Machine Learning\\annotations_final.geojson\")\n",
    "annotations"
   ]
  },
  {
   "cell_type": "markdown",
   "metadata": {},
   "source": [
    "Some necessary data manipulation of the annotations dataframe's polygon_vertices_pixels column before creating image mask pairs."
   ]
  },
  {
   "cell_type": "code",
   "execution_count": null,
   "metadata": {},
   "outputs": [
    {
     "name": "stdout",
     "output_type": "stream",
     "text": [
      "0       [[4492, 5226], [4385, 5292], [4397, 5313], [45...\n",
      "1       [[4405, 5323], [4416, 5344], [4524, 5281], [45...\n",
      "2       [[4421, 5353], [4432, 5373], [4539, 5309], [45...\n",
      "3       [[926, 3054], [927, 3129], [949, 3130], [949, ...\n",
      "4       [[951, 3054], [950, 3277], [972, 3278], [974, ...\n",
      "                              ...                        \n",
      "7704    [[9614, 10894], [9605, 10905], [9623, 10926], ...\n",
      "7705    [[9599, 10911], [9588, 10923], [9608, 10943], ...\n",
      "7706    [[9563, 10949], [9553, 10961], [9573, 10982], ...\n",
      "7707    [[9546, 10968], [9536, 10979], [9555, 11001], ...\n",
      "7708    [[9444, 11072], [9431, 11086], [9450, 11109], ...\n",
      "Name: polygon_vertices_pixels, Length: 7709, dtype: object\n"
     ]
    }
   ],
   "source": [
    "df = annotations.copy()\n",
    "\n",
    "# Clean the strings to remove np.int32 calls and fix any incomplete strings\n",
    "df['polygon_vertices_pixels'] = df['polygon_vertices_pixels'].apply(\n",
    "    lambda x: re.sub(r'np\\.int32\\((\\d+)\\)', r'\\1', x)\n",
    ")\n",
    "\n",
    "# Replace parentheses with square brackets\n",
    "df['polygon_vertices_pixels'] = df['polygon_vertices_pixels'].apply(\n",
    "    lambda x: re.sub(r'\\((\\d+), (\\d+)\\)', r'[\\1, \\2]', x)\n",
    ")\n",
    "\n",
    "# Ensure all tuples are properly closed\n",
    "def fix_incomplete_tuples(polygon_str):\n",
    "    # Find all tuples\n",
    "    tuples = re.findall(r'\\[\\d+, \\d+\\]', polygon_str)\n",
    "    # Join them back into a string\n",
    "    fixed_str = '[' + ', '.join(tuples) + ']'\n",
    "    return fixed_str\n",
    "\n",
    "df['polygon_vertices_pixels'] = df['polygon_vertices_pixels'].apply(fix_incomplete_tuples)\n",
    "\n",
    "# Convert the string representation of lists back to actual lists\n",
    "df['polygon_vertices_pixels'] = df['polygon_vertices_pixels'].apply(\n",
    "    lambda x: ast.literal_eval(x)\n",
    ")\n",
    "\n",
    "print(df['polygon_vertices_pixels'])"
   ]
  },
  {
   "cell_type": "code",
   "execution_count": null,
   "metadata": {},
   "outputs": [],
   "source": [
    "annotations = df"
   ]
  },
  {
   "cell_type": "markdown",
   "metadata": {},
   "source": [
    "Now that the dataframe is ready, we can finally create the image mask pairs. Each image/tile is 896x896 pixels"
   ]
  },
  {
   "cell_type": "code",
   "execution_count": 103,
   "metadata": {},
   "outputs": [
    {
     "name": "stdout",
     "output_type": "stream",
     "text": [
      "W07C_10\n",
      "W07C_11\n",
      "W07C_12\n",
      "W07C_13\n",
      "W07C_16\n",
      "W57A_17\n",
      "W57A_18\n",
      "W57A_19\n",
      "W57A_21\n",
      "W57A_22\n",
      "W57A_23\n",
      "W57A_24\n",
      "W57A_25\n",
      "W57B_2\n",
      "W57B_3\n",
      "W57B_4\n",
      "W57B_6\n",
      "W57B_7\n",
      "W57B_8\n",
      "W57B_9\n",
      "W57B_11\n",
      "W57B_12\n",
      "W57B_18\n",
      "W57B_13\n",
      "W57B_10\n",
      "W57B_19\n",
      "W57B_20\n",
      "W57C_9\n",
      "W48C_6\n",
      "W48C_11\n",
      "W48C_16\n",
      "W48C_22\n",
      "W49A_11\n",
      "W49A_2\n",
      "W49A_16\n",
      "W50D_4\n",
      "W50D_5\n",
      "W50D_25\n",
      "W33A_9\n",
      "W33A_10\n",
      "W33A_18\n",
      "W33B_2\n",
      "W33B_16\n",
      "W33B_19\n",
      "W33C_7\n",
      "W07C_17\n",
      "W07C_2\n",
      "W07C_21\n",
      "W07C_22\n",
      "W07C_23\n",
      "W07C_3\n",
      "W07C_4\n",
      "W07C_5\n",
      "W07C_6\n",
      "W07C_7\n",
      "W07C_8\n",
      "W07C_9\n",
      "W07D_1\n",
      "W07D_6\n",
      "W08A_1\n",
      "W08A_12\n",
      "W08A_2\n",
      "W08B_4\n",
      "W08B_9\n",
      "W12A_17\n",
      "W12A_18\n",
      "W12A_21\n",
      "W12A_22\n",
      "W12A_23\n",
      "W12A_24\n",
      "W12C_11\n",
      "W12C_12\n",
      "W12C_16\n",
      "W12C_17\n",
      "W12C_3\n",
      "W12C_4\n",
      "W12C_6\n",
      "W13A_1\n",
      "W13C_11\n",
      "W13C_13\n",
      "W13C_16\n",
      "W13C_17\n",
      "W13C_18\n",
      "W13C_21\n",
      "W13C_22\n",
      "W13C_8\n",
      "W14A_11\n",
      "W14A_12\n",
      "W14A_16\n",
      "W14A_21\n",
      "W16C_14\n",
      "W16C_15\n",
      "W16C_17\n",
      "W16C_18\n",
      "W16C_19\n",
      "W18B_5\n",
      "W18B_9\n",
      "W18B_8\n",
      "W16D_17\n",
      "W57B_5\n",
      "W57B_14\n",
      "W16C_22\n",
      "W16D_25\n",
      "W16D_24\n",
      "W16C_20\n",
      "W16C_21\n",
      "W16D_11\n",
      "W16D_12\n",
      "W16D_16\n",
      "W16D_21\n",
      "W16D_22\n",
      "W16D_23\n",
      "W16D_7\n"
     ]
    }
   ],
   "source": [
    "def create_mask(image_shape, polygons):\n",
    "    mask = np.zeros(image_shape[:2], dtype=\"uint8\")\n",
    "    for polygon in polygons:\n",
    "        cv2.fillPoly(mask, [polygon], 255)\n",
    "    flipped_mask = cv2.flip(mask, 0)\n",
    "    rotated_mask = cv2.rotate(flipped_mask, cv2.ROTATE_90_CLOCKWISE)\n",
    "    return rotated_mask\n",
    "\n",
    "def save_tile_and_mask(tile, mask, tile_index_pixels, tile_dir, mask_dir, image_name):\n",
    "    tile_filename = os.path.join(tile_dir, f'i_{image_name}_{tile_index_pixels}.png')\n",
    "    mask_filename = os.path.join(mask_dir, f'm_{image_name}_{tile_index_pixels}.png')\n",
    "    cv2.imwrite(tile_filename, cv2.cvtColor(tile, cv2.COLOR_RGB2BGR))\n",
    "    cv2.imwrite(mask_filename, mask)\n",
    "\n",
    "def adjust_polygon_coordinates(polygons, x_offset, y_offset):\n",
    "    adjusted_polygons = []\n",
    "    for polygon in polygons:\n",
    "        adjusted_polygon = polygon - np.array([x_offset, y_offset])\n",
    "        adjusted_polygons.append(adjusted_polygon)\n",
    "    return adjusted_polygons\n",
    "\n",
    "def process_geotiff(image_name, geotiff_path, tile_size, df, tile_dir, mask_dir):\n",
    "    with rasterio.open(geotiff_path) as src:\n",
    "        geotiff_array = src.read()\n",
    "\n",
    "        if len(geotiff_array.shape) == 3:\n",
    "            geotiff_array = np.transpose(geotiff_array, (1, 2, 0))\n",
    "\n",
    "        height, width = geotiff_array.shape[:2]\n",
    "\n",
    "        # Calculate padding\n",
    "        pad_height = (tile_size - height % tile_size) % tile_size\n",
    "        pad_width = (tile_size - width % tile_size) % tile_size\n",
    "\n",
    "        # Add padding to the image\n",
    "        padded_image = np.pad(geotiff_array, ((0, pad_height), (0, pad_width), (0, 0)), mode='constant')\n",
    "\n",
    "        padded_height, padded_width = padded_image.shape[:2]\n",
    "\n",
    "        tile_index = 0\n",
    "        for y in range(0, padded_height, tile_size):\n",
    "            for x in range(0, padded_width, tile_size):\n",
    "                tile = padded_image[y:y+tile_size, x:x+tile_size]\n",
    "                # print('tile pixel edges: ', y, y+tile_size, x, x+tile_size)\n",
    "\n",
    "                polygons_in_tile = []\n",
    "                for _, row in df.iterrows():\n",
    "                    # polygon_str = row['polygon_vertices_pixels']\n",
    "                    # polygon = np.array(ast.literal_eval(polygon_str), dtype=np.int32)\n",
    "                    polygon = row['polygon_vertices_pixels']\n",
    "                    \n",
    "                    bounds = {\n",
    "                        'left': x,\n",
    "                        'right': x+tile_size,\n",
    "                        'bottom': y+tile_size,\n",
    "                        'top': y\n",
    "                    }\n",
    "                    # print(bounds)\n",
    "                    \n",
    "                    if (bounds['left'] <= row['centroid_longitude_pixels'] <= bounds['right'] and bounds['top'] <= row['centroid_latitude_pixels'] <= bounds['bottom']):\n",
    "                        polygons_in_tile.append(polygon)\n",
    "                        # print(row['id'])\n",
    "                    \n",
    "                # print(polygons_in_tile)\n",
    "                # print(x)\n",
    "                # print(y)\n",
    "                adjusted_polygons = adjust_polygon_coordinates(polygons_in_tile, y, x)\n",
    "                # print(adjusted_polygons)\n",
    "\n",
    "                mask = create_mask(tile.shape, adjusted_polygons)\n",
    "\n",
    "                tile_index_pixels = str(int(y/tile_size)) + \"_\" + str(int(x/tile_size))\n",
    "                save_tile_and_mask(tile, mask, tile_index_pixels, tile_dir, mask_dir, image_name)\n",
    "                tile_index += 1\n",
    "\n",
    "\n",
    "def process_all_images_in_folder(folder_path, annotations_df, tile_size, tile_dir, mask_dir):\n",
    "    unique_images = annotations_df['image_name'].unique()\n",
    "    \n",
    "    for image_name in unique_images:\n",
    "        image_path = folder_path + image_name + \".tif\"\n",
    "        \n",
    "        if os.path.exists(image_path):\n",
    "            print(image_name)\n",
    "            image_annotations_df = annotations_df[annotations_df['image_name'] == image_name]\n",
    "            \n",
    "            process_geotiff(image_name, image_path, tile_size, image_annotations_df, tile_dir, mask_dir)\n",
    "\n",
    "\n",
    "tile_dir = r'C:\\Users\\AICHA\\Box\\Cape Town Energy Transitions Bass Connections\\Class Materials 2024-2025\\Teams\\Team 1 Machine learning\\CT - MachineLearning\\S1 Machine Learning\\dataset\\tiles'\n",
    "mask_dir = r'C:\\Users\\AICHA\\Box\\Cape Town Energy Transitions Bass Connections\\Class Materials 2024-2025\\Teams\\Team 1 Machine learning\\CT - MachineLearning\\S1 Machine Learning\\dataset\\masks'\n",
    "os.makedirs(tile_dir, exist_ok=True)\n",
    "os.makedirs(mask_dir, exist_ok=True)\n",
    "\n",
    "dataset_path = r\"C:\\Users\\AICHA\\Box\\Cape Town Energy Transitions Bass Connections\\Class Materials 2024-2025\\Aerial Imagery\\AP2023_TIFFs_Bass\\2023_RGB_8cm_\"\n",
    "tile_size = 896 \n",
    "\n",
    "process_all_images_in_folder(dataset_path, annotations, tile_size=896, tile_dir=tile_dir, mask_dir=mask_dir)\n"
   ]
  },
  {
   "cell_type": "markdown",
   "metadata": {},
   "source": [
    "There are a lot of images that don't contain any solar panel. To avoid wasting training resources, we'll only select the images that contain panels to work with."
   ]
  },
  {
   "cell_type": "code",
   "execution_count": null,
   "metadata": {},
   "outputs": [],
   "source": [
    "# copy the masks that contain the target to a seperate folder\n",
    "\n",
    "def check_mask_has_target(mask_path):\n",
    "    mask = cv2.imread(mask_path, cv2.IMREAD_GRAYSCALE)\n",
    "    return np.any(mask > 0)\n",
    "\n",
    "def copy_masks_with_target(source_folder, destination_folder):\n",
    "    os.makedirs(destination_folder, exist_ok=True)\n",
    "    \n",
    "    for filename in os.listdir(source_folder):\n",
    "        file_path = os.path.join(source_folder, filename)\n",
    "        \n",
    "        if check_mask_has_target(file_path):\n",
    "            shutil.copy(file_path, destination_folder)\n",
    "            print(f\"Copied {filename} to {destination_folder}\")\n",
    "\n",
    "source_folder = '/home/as1233/data/cape_town/masks'\n",
    "destination_folder = '/home/as1233/data/cape_town/masks_target'\n",
    "\n",
    "copy_masks_with_target(source_folder, destination_folder)"
   ]
  },
  {
   "cell_type": "code",
   "execution_count": null,
   "metadata": {},
   "outputs": [],
   "source": [
    "# copy the corresponding images to a new folder\n",
    "def copy_corresponding_images(mask_folder, image_folder, destination_folder):\n",
    "    os.makedirs(destination_folder, exist_ok=True)\n",
    "    \n",
    "    for mask_filename in os.listdir(mask_folder):\n",
    "        image_filename = 'i' + mask_filename[1:]\n",
    "        image_path = os.path.join(image_folder, image_filename)\n",
    "        \n",
    "        if os.path.exists(image_path):\n",
    "            shutil.copy(image_path, destination_folder)\n",
    "            print(f\"Copied {image_filename} to {destination_folder}\")\n",
    "\n",
    "mask_folder = '/home/as1233/data/cape_town/masks_target'\n",
    "image_folder = '/home/as1233/data/cape_town/tiles'\n",
    "destination_folder = '/home/as1233/data/cape_town/images_target'\n",
    "\n",
    "copy_corresponding_images(mask_folder, image_folder, destination_folder)"
   ]
  },
  {
   "cell_type": "code",
   "execution_count": null,
   "metadata": {},
   "outputs": [],
   "source": [
    "# split the dataset into train, test, and val datasets\n",
    "\n",
    "def split_data(mask_folder, image_folder, train_folder, val_folder, test_folder, train_ratio=0.7, val_ratio=0.15, test_ratio=0.15):\n",
    "    os.makedirs(os.path.join(train_folder, 'images'), exist_ok=True)\n",
    "    os.makedirs(os.path.join(train_folder, 'masks'), exist_ok=True)\n",
    "    os.makedirs(os.path.join(val_folder, 'images'), exist_ok=True)\n",
    "    os.makedirs(os.path.join(val_folder, 'masks'), exist_ok=True)\n",
    "    os.makedirs(os.path.join(test_folder, 'images'), exist_ok=True)\n",
    "    os.makedirs(os.path.join(test_folder, 'masks'), exist_ok=True)\n",
    "    \n",
    "    mask_files = os.listdir(mask_folder)\n",
    "    \n",
    "    random.shuffle(mask_files)\n",
    "    \n",
    "    total_files = len(mask_files)\n",
    "    train_count = int(total_files * train_ratio)\n",
    "    val_count = int(total_files * val_ratio)\n",
    "    test_count = total_files - train_count - val_count\n",
    "    \n",
    "    train_files = mask_files[:train_count]\n",
    "    val_files = mask_files[train_count:train_count + val_count]\n",
    "    test_files = mask_files[train_count + val_count:]\n",
    "    \n",
    "    def copy_files(file_list, dest_image_folder, dest_mask_folder):\n",
    "        for mask_filename in file_list:\n",
    "            shutil.copy(os.path.join(mask_folder, mask_filename), dest_mask_folder)\n",
    "            \n",
    "            image_filename = 'i' + mask_filename[1:]\n",
    "            shutil.copy(os.path.join(image_folder, image_filename), dest_image_folder)\n",
    "    \n",
    "    copy_files(train_files, os.path.join(train_folder, 'images'), os.path.join(train_folder, 'masks'))\n",
    "    copy_files(val_files, os.path.join(val_folder, 'images'), os.path.join(val_folder, 'masks'))\n",
    "    copy_files(test_files, os.path.join(test_folder, 'images'), os.path.join(test_folder, 'masks'))\n",
    "\n",
    "mask_folder = '/home/as1233/data/cape_town/masks_target'\n",
    "image_folder = '/home/as1233/data/cape_town/images_target'\n",
    "train_folder = '/home/as1233/data/cape_town/train'\n",
    "val_folder = '/home/as1233/data/cape_town/val'\n",
    "test_folder = '/home/as1233/data/cape_town/test'\n",
    "\n",
    "split_data(mask_folder, image_folder, train_folder, val_folder, test_folder)"
   ]
  }
 ],
 "metadata": {
  "kernelspec": {
   "display_name": "solar",
   "language": "python",
   "name": "python3"
  },
  "language_info": {
   "codemirror_mode": {
    "name": "ipython",
    "version": 3
   },
   "file_extension": ".py",
   "mimetype": "text/x-python",
   "name": "python",
   "nbconvert_exporter": "python",
   "pygments_lexer": "ipython3",
   "version": "3.9.20"
  }
 },
 "nbformat": 4,
 "nbformat_minor": 2
}
